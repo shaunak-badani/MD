{
 "cells": [
  {
   "cell_type": "code",
   "execution_count": 1,
   "metadata": {},
   "outputs": [],
   "source": [
    "import numpy as np\n",
    "import matplotlib.pyplot as plt"
   ]
  },
  {
   "cell_type": "code",
   "execution_count": 2,
   "metadata": {},
   "outputs": [],
   "source": [
    "k_b = 0.001982923700"
   ]
  },
  {
   "cell_type": "code",
   "execution_count": 3,
   "metadata": {},
   "outputs": [],
   "source": [
    "HIST_MIN = -1\n",
    "HIST_MAX = 181\n",
    "NUM_BINS = 61\n",
    "T = 300\n",
    "BIN_WIDTH = (HIST_MAX - HIST_MIN) / NUM_BINS\n",
    "TOL = 0.01\n",
    "kT = k_b * T\n",
    "METAFILE = 'meta.dat'"
   ]
  },
  {
   "cell_type": "code",
   "execution_count": 4,
   "metadata": {},
   "outputs": [],
   "source": [
    "HISTOGRAM = np.zeros(NUM_BINS, dtype = np.float32)\n",
    "prob = HISTOGRAM.copy()\n",
    "final_prob = HISTOGRAM.copy()\n",
    "ave_p = HISTOGRAM.copy()\n",
    "ave_p2 = HISTOGRAM.copy()\n",
    "ave_pdf = HISTOGRAM.copy()\n",
    "free_ene = HISTOGRAM.copy()\n"
   ]
  },
  {
   "cell_type": "code",
   "execution_count": 5,
   "metadata": {},
   "outputs": [],
   "source": [
    "def get_numwindows(filename):\n",
    "    fo = open(filename, \"r\")\n",
    "    lines = fo.readlines()\n",
    "    i = 0\n",
    "    for line in lines:\n",
    "        if line[0] == '#':\n",
    "            continue\n",
    "        if line.isspace():\n",
    "            continue\n",
    "        i += 1\n",
    "    return i"
   ]
  },
  {
   "cell_type": "code",
   "execution_count": 6,
   "metadata": {},
   "outputs": [],
   "source": [
    "i = get_numwindows(METAFILE)"
   ]
  },
  {
   "cell_type": "code",
   "execution_count": 7,
   "metadata": {},
   "outputs": [],
   "source": [
    "# def read_file(file_name):\n",
    "#     file_object = open(file_name, \"r\")\n",
    "#     lines = file_object.readlines()\n",
    "#     data_files = []\n",
    "#     centers = []\n",
    "#     spring_constants = []\n",
    "#     for line in lines:\n",
    "#         data_file, center, k = line.split()\n",
    "#         data_files.append(data_file)\n",
    "#         centers.append(center)\n",
    "#         spring_constants.append(k)\n",
    "#     return data_files, centers, spring_constants"
   ]
  },
  {
   "cell_type": "code",
   "execution_count": 8,
   "metadata": {},
   "outputs": [],
   "source": [
    "# data_files, x_0, k_s = read_file(METAFILE)"
   ]
  },
  {
   "cell_type": "code",
   "execution_count": 9,
   "metadata": {},
   "outputs": [],
   "source": [
    "# print(data_files)"
   ]
  },
  {
   "cell_type": "code",
   "execution_count": 7,
   "metadata": {},
   "outputs": [],
   "source": [
    "def make_hist_group(num_windows):\n",
    "    h = {\n",
    "        \"num_windows\": num_windows,\n",
    "        \"bias_locations\": np.empty(num_windows, dtype = np.float32),\n",
    "        \"spring_constants\": np.empty(num_windows, dtype = np.float32),\n",
    "        \"F\": np.zeros(num_windows, dtype = np.float32),\n",
    "        \"F_old\": np.zeros(num_windows, dtype = np.float32),\n",
    "        \"kT\": np.zeros(num_windows, dtype = np.float32),\n",
    "        \"partition\": np.empty(num_windows, dtype = np.float32),\n",
    "        \"hists\": [], \n",
    "    }\n",
    "    return h"
   ]
  },
  {
   "cell_type": "code",
   "execution_count": 8,
   "metadata": {},
   "outputs": [],
   "source": [
    "hist_group = make_hist_group(i)"
   ]
  },
  {
   "cell_type": "code",
   "execution_count": 9,
   "metadata": {},
   "outputs": [],
   "source": [
    "def read_data(filename):\n",
    "    global HISTOGRAM\n",
    "    HISTOGRAM = np.zeros(NUM_BINS, dtype = np.float32)\n",
    "    fo = open(filename, \"r\")\n",
    "    lines = fo.readlines()\n",
    "    num_points = 0\n",
    "    for line in lines:\n",
    "        if line[0] == '#':\n",
    "            continue\n",
    "        t, val = line.split()\n",
    "        t, val = float(t), float(val)\n",
    "        if val > HIST_MIN and val < HIST_MAX:\n",
    "            index = int((val - HIST_MIN) / BIN_WIDTH)\n",
    "            HISTOGRAM[index] += 1\n",
    "            num_points += 1\n",
    "    return num_points"
   ]
  },
  {
   "cell_type": "code",
   "execution_count": 10,
   "metadata": {},
   "outputs": [],
   "source": [
    "def hist_alloc(first, last, num_points):\n",
    "    hp = {\n",
    "        \"first\" : first,\n",
    "        \"last\" : last,\n",
    "        \"num_points\" : num_points,\n",
    "        \"data\" : np.zeros(last - first + 1, dtype = np.float32)\n",
    "    }\n",
    "    return hp"
   ]
  },
  {
   "cell_type": "code",
   "execution_count": 11,
   "metadata": {},
   "outputs": [],
   "source": [
    "def read_metadata(filename, hist_group):\n",
    "    fo = open(filename, \"r\")\n",
    "    lines = fo.readlines()\n",
    "    current_window = 0\n",
    "    hist_group['hists'] = [None] * len(lines)\n",
    "    for line in lines:\n",
    "        if line[0] == '#':\n",
    "            continue\n",
    "        filename, loc, spring = line.split(' ')\n",
    "        hist_group['bias_locations'][current_window] = loc\n",
    "        hist_group['spring_constants'][current_window] = spring\n",
    "        \n",
    "        correl_time = 1.0\n",
    "        hist_group['kT'][current_window] = -1.0\n",
    "        \n",
    "        num_points = read_data(filename)\n",
    "        tmp = np.where(HISTOGRAM != 0)[0]\n",
    "        min_nonzero = tmp.min()\n",
    "        max_nonzero = tmp.max()\n",
    "        assert min_nonzero <= max_nonzero, \"No data points within histogram bounds\"\n",
    "        h = hist_alloc(min_nonzero, max_nonzero, num_points)\n",
    "        for j in range(min_nonzero, max_nonzero + 1):\n",
    "            h['data'][j - min_nonzero] = HISTOGRAM[j]\n",
    "        hist_group['hists'].append(h)\n",
    "        \n",
    "        hist_group['hists'][current_window] = h\n",
    "        \n",
    "        s = hist_group['hists'][current_window]['data'].sum()\n",
    "        hist_group['hists'][current_window]['cum'] = \\\n",
    "            hist_group['hists'][current_window]['data'].cumsum()\n",
    "        \n",
    "        hist_group['hists'][current_window]['cum'] /= s\n",
    "        if num_points < 0:\n",
    "            print(\"Error reading data file!\")\n",
    "        current_window += 1\n",
    "    return current_window"
   ]
  },
  {
   "cell_type": "code",
   "execution_count": 21,
   "metadata": {},
   "outputs": [],
   "source": [
    "k = read_metadata(METAFILE, hist_group)\n",
    "\n",
    "assert k == hist_group['num_windows']\n",
    "\n",
    "hist_group['kT'][:] = kT\n",
    "\n",
    "final_f = np.zeros(hist_group['num_windows'], dtype = np.float32)\n",
    "\n",
    "hist_group['F'][:] = 0\n",
    "hist_group['F_old'][:] = 0"
   ]
  },
  {
   "cell_type": "code",
   "execution_count": 22,
   "metadata": {},
   "outputs": [],
   "source": [
    "def is_converged(h):\n",
    "    error = np.abs(h['F'] - h['F_old'])\n",
    "    if (error > TOL).any():\n",
    "        return 0\n",
    "    return error.size"
   ]
  },
  {
   "cell_type": "code",
   "execution_count": 23,
   "metadata": {},
   "outputs": [],
   "source": [
    "def save_free(h):\n",
    "    h['F_old'][:] = h['F']\n",
    "    h['F'][:] = 0"
   ]
  },
  {
   "cell_type": "code",
   "execution_count": 24,
   "metadata": {},
   "outputs": [],
   "source": [
    "def calc_coor(i):\n",
    "    return HIST_MIN + (i + 0.5) * BIN_WIDTH\n",
    "    \n",
    "def get_histval(hist, index):\n",
    "    if index < hist['first'] or index > hist['last']:\n",
    "        return 0\n",
    "    return hist['data'][index - hist['first']]\n",
    "\n",
    "def calc_bias(h, index, coor):\n",
    "    spring = h['spring_constants'][index]\n",
    "    loc = h['bias_locations'][index]\n",
    "    dx = coor - loc\n",
    "    dx = np.abs(dx)\n",
    "    return 0.5 * dx * dx * spring"
   ]
  },
  {
   "cell_type": "code",
   "execution_count": 47,
   "metadata": {},
   "outputs": [],
   "source": [
    "def wham_iteration(h, prob):\n",
    "    \n",
    "    for i in range(NUM_BINS):\n",
    "        coor = calc_coor(i)\n",
    "        num = 0.0\n",
    "        denom = 0.0\n",
    "        \n",
    "        for j in range(h['num_windows']):\n",
    "            num += get_histval(h['hists'][j], i)\n",
    "            bias = calc_bias(h, j, coor)\n",
    "            bf = np.exp((h['F_old'][j] - bias) / h['kT'][j])\n",
    "            denom += h['hists'][j]['num_points'] * bf\n",
    "            \n",
    "        prob[i] = num / denom\n",
    "        \n",
    "        for j in range(h['num_windows']):\n",
    "            bias = calc_bias(h, j, coor)\n",
    "            bf = np.exp(-bias / h['kT'][j]) * prob[i]\n",
    "            h['F'][j] += bf\n",
    "#             print(i, j, bias, bf, h['F'][j], h['kT'][j])\n",
    "            \n",
    "#         print((h['F'] == 0).all())\n",
    "#     Take natural logarithm of Eq 9 \n",
    "    for j in range(h['num_windows']):\n",
    "        h['F'][j] = -h['kT'][j] * np.log(h['F'][j])\n",
    "    for j in reversed(range(h['num_windows'])):\n",
    "        h['F'][j] -= h['F'][0]"
   ]
  },
  {
   "cell_type": "code",
   "execution_count": 85,
   "metadata": {},
   "outputs": [],
   "source": [
    "def average_diff(hist_group):\n",
    "    error = np.abs(hist_group['F'] - hist_group['F_old']).sum()\n",
    "    return error / hist_group['num_windows']\n",
    "\n",
    "def calc_free(free_ene, prob, kT):\n",
    "    free_ene[:] = -kT * np.log(prob)\n",
    "    bin_min = np.argmin(free_ene)\n",
    "    free_ene[:] -= free_ene[bin_min]\n",
    "    return bin_min"
   ]
  },
  {
   "cell_type": "code",
   "execution_count": 49,
   "metadata": {},
   "outputs": [],
   "source": [
    "max_iteration = 10000\n",
    "first = 1"
   ]
  },
  {
   "cell_type": "code",
   "execution_count": 53,
   "metadata": {},
   "outputs": [],
   "source": [
    "i = get_numwindows(METAFILE)\n",
    "hist_group = make_hist_group(i)\n",
    "\n",
    "k = read_metadata(METAFILE, hist_group)\n",
    "\n",
    "assert k == hist_group['num_windows']\n",
    "\n",
    "hist_group['kT'][:] = kT\n",
    "\n",
    "final_f = np.zeros(hist_group['num_windows'], dtype = np.float32)\n",
    "\n",
    "hist_group['F'][:] = 0\n",
    "hist_group['F_old'][:] = 0\n",
    "first = 1\n",
    "iteration = 0"
   ]
  },
  {
   "cell_type": "code",
   "execution_count": 54,
   "metadata": {},
   "outputs": [],
   "source": [
    "while (not is_converged(hist_group) or first):\n",
    "    first = 0\n",
    "    save_free(hist_group)\n",
    "    wham_iteration(hist_group, prob)\n",
    "#     print(prob)\n",
    "    iteration += 1\n",
    "#     if iteration > 1:\n",
    "#         break\n",
    "    if iteration % 100 == 0:\n",
    "        error = average_diff(hist_group)\n",
    "#         print(\"Iteration {}: {}\".format(iteration, error))\n",
    "    if iteration % 100 == 0:\n",
    "        calc_free(free_ene, prob, kT)\n",
    "        for i in range(NUM_BINS):\n",
    "            coor = calc_coor(i)\n",
    "#             print(\"{} {} {}\".format(coor, free_ene[i], prob[i]))\n",
    "        \n",
    "#         print(\"# Dumping simulation biases, in the metadata file order \\n\")\n",
    "#         print(\"# Window F (free energy units)\")\n",
    "        for j in range(hist_group['num_windows']):\n",
    "#             print(\"# {} {}\".format(j, hist_group['F'][j]))\n",
    "            final_f[j] = hist_group['F'][j]\n",
    "    if iteration >= max_iteration:\n",
    "        print(\"Too many iterations: {}\".format(iteration))\n",
    "        break"
   ]
  },
  {
   "cell_type": "code",
   "execution_count": 55,
   "metadata": {},
   "outputs": [
    {
     "name": "stdout",
     "output_type": "stream",
     "text": [
      "278\n"
     ]
    }
   ],
   "source": [
    "print(iteration)"
   ]
  },
  {
   "cell_type": "code",
   "execution_count": 77,
   "metadata": {},
   "outputs": [
    {
     "name": "stdout",
     "output_type": "stream",
     "text": [
      "# Dumping simulation biases, in the metadata file order \n",
      "\n",
      "# Window F (free energy units)\n",
      "# 0 0.0\n",
      "# 1 -0.16396020352840424\n",
      "# 2 -0.04462217912077904\n",
      "# 3 0.14028258621692657\n",
      "# 4 0.31599313020706177\n",
      "# 5 0.5003530383110046\n",
      "# 6 0.7310488820075989\n",
      "# 7 1.0045722723007202\n",
      "# 8 1.3155680894851685\n",
      "# 9 1.6269413232803345\n",
      "# 10 1.9325437545776367\n",
      "# 11 2.260859489440918\n",
      "# 12 2.6139917373657227\n",
      "# 13 2.992504358291626\n",
      "# 14 3.3920114040374756\n",
      "# 15 3.8038079738616943\n",
      "# 16 4.222769737243652\n",
      "# 17 4.6706624031066895\n",
      "# 18 5.162755966186523\n",
      "# 19 5.6953511238098145\n",
      "# 20 6.276191711425781\n",
      "# 21 6.8847784996032715\n",
      "# 22 7.502377510070801\n",
      "# 23 8.127459526062012\n",
      "# 24 8.732381820678711\n",
      "# 25 9.343092918395996\n",
      "# 26 9.95725154876709\n",
      "# 27 10.410977363586426\n",
      "# 28 10.323213577270508\n",
      "# 29 9.820300102233887\n",
      "# 30 9.252104759216309\n",
      "# 31 8.683116912841797\n",
      "# 32 8.101648330688477\n",
      "# 33 7.528109550476074\n",
      "# 34 6.974527359008789\n",
      "# 35 6.4231858253479\n",
      "# 36 5.871573448181152\n",
      "# 37 5.320510387420654\n",
      "# 38 4.745107650756836\n",
      "# 39 4.152315616607666\n",
      "# 40 3.585876941680908\n",
      "# 41 3.0651209354400635\n",
      "# 42 2.5776162147521973\n",
      "# 43 2.1210107803344727\n",
      "# 44 1.712037205696106\n",
      "# 45 1.329432725906372\n",
      "# 46 0.9568237066268921\n",
      "# 47 0.600648045539856\n",
      "# 48 0.2519022524356842\n",
      "# 49 -0.06610800325870514\n",
      "# 50 -0.3575870096683502\n",
      "# 51 -0.6299887895584106\n",
      "# 52 -0.8600655198097229\n",
      "# 53 -1.0543369054794312\n",
      "# 54 -1.2253292798995972\n",
      "# 55 -1.3536320924758911\n",
      "# 56 -1.4371477365493774\n",
      "# 57 -1.4942224025726318\n",
      "# 58 -1.5261691808700562\n",
      "# 59 -1.5174072980880737\n",
      "# 60 -1.2979947328567505\n"
     ]
    }
   ],
   "source": [
    "print(\"# Dumping simulation biases, in the metadata file order \\n\")\n",
    "print(\"# Window F (free energy units)\")\n",
    "for j in range(hist_group['num_windows']):\n",
    "        print(\"# {} {}\".format(j, hist_group['F'][j]))\n",
    "        final_f[j] = hist_group['F'][j]"
   ]
  },
  {
   "cell_type": "code",
   "execution_count": 86,
   "metadata": {},
   "outputs": [],
   "source": [
    "bin_min = calc_free(free_ene, prob, kT)"
   ]
  },
  {
   "cell_type": "code",
   "execution_count": 87,
   "metadata": {},
   "outputs": [
    {
     "data": {
      "image/png": "[encoded data removed]",
      "text/plain": [
       "<Figure size 432x288 with 1 Axes>"
      ]
     },
     "metadata": {
      "needs_background": "light"
     },
     "output_type": "display_data"
    }
   ],
   "source": [
    "coor = list(map(lambda i: calc_coor(i), np.arange(NUM_BINS)))\n",
    "plt.plot(coor, free_ene)\n",
    "plt.grid(True)"
   ]
  }
 ],
 "metadata": {
  "kernelspec": {
   "display_name": "hist_plot",
   "language": "python",
   "name": "hist_plot"
  },
  "language_info": {
   "codemirror_mode": {
    "name": "ipython",
    "version": 3
   },
   "file_extension": ".py",
   "mimetype": "text/x-python",
   "name": "python",
   "nbconvert_exporter": "python",
   "pygments_lexer": "ipython3",
   "version": "3.6.12"
  }
 },
 "nbformat": 4,
 "nbformat_minor": 2
}
