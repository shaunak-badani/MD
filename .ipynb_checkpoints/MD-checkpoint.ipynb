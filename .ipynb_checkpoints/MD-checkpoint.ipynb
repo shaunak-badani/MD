{
 "cells": [
  {
   "cell_type": "code",
   "execution_count": 1,
   "metadata": {},
   "outputs": [],
   "source": [
    "import numpy as np\n",
    "import matplotlib.pyplot as plt\n",
    "\n",
    "%matplotlib inline\n"
   ]
  },
  {
   "cell_type": "code",
   "execution_count": 2,
   "metadata": {},
   "outputs": [],
   "source": [
    "psf = 'inp_files/da.psf'\n",
    "pdb = 'inp_files/smd_ini.pdb'\n",
    "prm = 'inp_files/par_all27_prot_lipid_cmap.prm'"
   ]
  },
  {
   "cell_type": "code",
   "execution_count": 232,
   "metadata": {},
   "outputs": [],
   "source": [
    "def com_vel(v, mas):\n",
    "    return (np.sum(mas * v, axis = 0) / np.sum(mas))"
   ]
  },
  {
   "cell_type": "code",
   "execution_count": 242,
   "metadata": {},
   "outputs": [],
   "source": [
    "def KE(v, mas):\n",
    "    return ((0.5 / na) * np.sum(mas * v**2))"
   ]
  },
  {
   "cell_type": "code",
   "execution_count": 244,
   "metadata": {},
   "outputs": [],
   "source": [
    "alpha = (3 * kb * T) / (2 * KE(initial_velocities, mass))"
   ]
  },
  {
   "cell_type": "code",
   "execution_count": 246,
   "metadata": {},
   "outputs": [],
   "source": [
    "initial_velocities *= alpha"
   ]
  },
  {
   "cell_type": "code",
   "execution_count": 247,
   "metadata": {},
   "outputs": [],
   "source": [
    "initial_velocities -= com_vel(initial_velocities, mass)"
   ]
  },
  {
   "cell_type": "code",
   "execution_count": 3,
   "metadata": {},
   "outputs": [],
   "source": [
    "import parmed"
   ]
  },
  {
   "cell_type": "code",
   "execution_count": 4,
   "metadata": {},
   "outputs": [],
   "source": [
    "from parmed.charmm import CharmmParameterSet"
   ]
  },
  {
   "cell_type": "code",
   "execution_count": 5,
   "metadata": {},
   "outputs": [
    {
     "name": "stderr",
     "output_type": "stream",
     "text": [
      "/home/shaunak/anaconda3/envs/MD/lib/python3.6/site-packages/parmed/charmm/parameters.py:747: ParameterWarning: Atom type C not present in AtomType list\n",
      "  warnings.warn('Atom type %s not present in AtomType list' % key, ParameterWarning)\n"
     ]
    }
   ],
   "source": [
    "prm = CharmmParameterSet(\"inp_files/par_all27_prot_lipid_cmap.prm\")"
   ]
  },
  {
   "cell_type": "code",
   "execution_count": 9,
   "metadata": {},
   "outputs": [],
   "source": [
    "from parmed.formats.registry import load_file"
   ]
  },
  {
   "cell_type": "code",
   "execution_count": 21,
   "metadata": {},
   "outputs": [
    {
     "data": {
      "text/plain": [
       "TrackedList([\n",
       "\t<Bond <Atom N [0]; In ALA 0>--<Atom CA [3]; In ALA 0>; type=None>\n",
       "\t<Bond <Atom HT2 [1]; In ALA 0>--<Atom N [0]; In ALA 0>; type=None>\n",
       "\t<Bond <Atom HT3 [2]; In ALA 0>--<Atom N [0]; In ALA 0>; type=None>\n",
       "\t<Bond <Atom CA [3]; In ALA 0>--<Atom HA [4]; In ALA 0>; type=None>\n",
       "\t<Bond <Atom CB [5]; In ALA 0>--<Atom CA [3]; In ALA 0>; type=None>\n",
       "\t<Bond <Atom CB [5]; In ALA 0>--<Atom HB1 [6]; In ALA 0>; type=None>\n",
       "\t<Bond <Atom CB [5]; In ALA 0>--<Atom HB2 [7]; In ALA 0>; type=None>\n",
       "\t<Bond <Atom CB [5]; In ALA 0>--<Atom HB3 [8]; In ALA 0>; type=None>\n",
       "\t<Bond <Atom C [9]; In ALA 0>--<Atom CA [3]; In ALA 0>; type=None>\n",
       "\t<Bond <Atom C [9]; In ALA 0>--<Atom N [11]; In ALA 1>; type=None>\n",
       "\t<Bond <Atom O [10]; In ALA 0>--<Atom C [9]; In ALA 0>; type=None>\n",
       "\t<Bond <Atom N [11]; In ALA 1>--<Atom HN [12]; In ALA 1>; type=None>\n",
       "\t<Bond <Atom N [11]; In ALA 1>--<Atom CA [13]; In ALA 1>; type=None>\n",
       "\t<Bond <Atom CA [13]; In ALA 1>--<Atom HA [14]; In ALA 1>; type=None>\n",
       "\t<Bond <Atom CB [15]; In ALA 1>--<Atom CA [13]; In ALA 1>; type=None>\n",
       "\t<Bond <Atom CB [15]; In ALA 1>--<Atom HB1 [16]; In ALA 1>; type=None>\n",
       "\t<Bond <Atom CB [15]; In ALA 1>--<Atom HB2 [17]; In ALA 1>; type=None>\n",
       "\t<Bond <Atom CB [15]; In ALA 1>--<Atom HB3 [18]; In ALA 1>; type=None>\n",
       "\t<Bond <Atom C [19]; In ALA 1>--<Atom CA [13]; In ALA 1>; type=None>\n",
       "\t<Bond <Atom C [19]; In ALA 1>--<Atom N [21]; In ALA 2>; type=None>\n",
       "\t<Bond <Atom O [20]; In ALA 1>--<Atom C [19]; In ALA 1>; type=None>\n",
       "\t<Bond <Atom N [21]; In ALA 2>--<Atom HN [22]; In ALA 2>; type=None>\n",
       "\t<Bond <Atom N [21]; In ALA 2>--<Atom CA [23]; In ALA 2>; type=None>\n",
       "\t<Bond <Atom CA [23]; In ALA 2>--<Atom HA [24]; In ALA 2>; type=None>\n",
       "\t...\n",
       "\t<Bond <Atom CA [98]; In ALA 9>--<Atom HA [99]; In ALA 9>; type=None>\n",
       "\t<Bond <Atom CB [100]; In ALA 9>--<Atom CA [98]; In ALA 9>; type=None>\n",
       "\t<Bond <Atom CB [100]; In ALA 9>--<Atom HB1 [101]; In ALA 9>; type=None>\n",
       "\t<Bond <Atom CB [100]; In ALA 9>--<Atom HB2 [102]; In ALA 9>; type=None>\n",
       "\t<Bond <Atom CB [100]; In ALA 9>--<Atom HB3 [103]; In ALA 9>; type=None>\n",
       "])"
      ]
     },
     "execution_count": 21,
     "metadata": {},
     "output_type": "execute_result"
    }
   ],
   "source": [
    "psf = load_file('inp_files/da.psf')\n",
    "\n",
    "# Alternatively this is also okay\n",
    "# from parmed.charmm import CharmmPsfFile\n",
    "# psf = CharmmPsfFile('inp_files/da.psf')\n",
    "psf.bonds"
   ]
  },
  {
   "cell_type": "code",
   "execution_count": 22,
   "metadata": {},
   "outputs": [],
   "source": [
    "pdb = load_file('inp_files/smd_ini.pdb')"
   ]
  },
  {
   "cell_type": "code",
   "execution_count": 23,
   "metadata": {},
   "outputs": [
    {
     "data": {
      "text/plain": [
       "array([[ 1.6600e-01,  2.6700e-01, -3.0400e-01],\n",
       "       [-5.4400e-01,  1.8300e-01,  4.3700e-01],\n",
       "       [ 9.4900e-01,  8.1700e-01,  1.8400e-01],\n",
       "       [ 7.6700e-01, -1.1160e+00, -5.0600e-01],\n",
       "       [-1.1000e-02, -1.8060e+00, -5.0800e-01],\n",
       "       [ 1.3150e+00, -1.2430e+00, -1.9140e+00],\n",
       "       [ 1.6520e+00, -2.2170e+00, -2.2730e+00],\n",
       "       [ 4.4500e-01, -1.0150e+00, -2.5850e+00],\n",
       "       [ 2.0220e+00, -4.8000e-01, -2.1480e+00],\n",
       "       [ 1.8770e+00, -1.4790e+00,  5.1900e-01],\n",
       "       [ 2.2040e+00, -6.5500e-01,  1.3490e+00],\n",
       "       [ 2.5630e+00, -2.6420e+00,  2.9400e-01],\n",
       "       [ 2.3540e+00, -3.2190e+00, -4.8800e-01],\n",
       "       [ 3.7350e+00, -3.1400e+00,  1.0030e+00],\n",
       "       [ 3.5390e+00, -4.1940e+00,  1.2370e+00],\n",
       "       [ 4.9550e+00, -3.0560e+00,  1.1600e-01],\n",
       "       [ 5.0750e+00, -2.0040e+00, -1.3000e-01],\n",
       "       [ 5.9060e+00, -3.4220e+00,  4.9700e-01],\n",
       "       [ 4.7380e+00, -3.5340e+00, -9.1800e-01],\n",
       "       [ 4.0730e+00, -2.6180e+00,  2.4280e+00],\n",
       "       [ 3.3890e+00, -2.8910e+00,  3.4070e+00],\n",
       "       [ 5.1460e+00, -1.7920e+00,  2.4600e+00],\n",
       "       [ 5.5590e+00, -1.5830e+00,  1.5910e+00],\n",
       "       [ 5.7020e+00, -1.2060e+00,  3.6720e+00],\n",
       "       [ 5.8750e+00, -2.0310e+00,  4.3570e+00],\n",
       "       [ 7.1750e+00, -7.4200e-01,  3.5010e+00],\n",
       "       [ 7.1090e+00,  2.5000e-02,  2.6870e+00],\n",
       "       [ 7.5280e+00, -3.6800e-01,  4.4660e+00],\n",
       "       [ 7.7290e+00, -1.5860e+00,  3.1220e+00],\n",
       "       [ 4.8120e+00, -1.9800e-01,  4.3910e+00],\n",
       "       [ 4.6250e+00, -1.5600e-01,  5.6250e+00],\n",
       "       [ 4.1760e+00,  7.7300e-01,  3.7150e+00],\n",
       "       [ 4.3950e+00,  8.6500e-01,  2.7280e+00],\n",
       "       [ 3.2310e+00,  1.7080e+00,  4.3410e+00],\n",
       "       [ 3.7680e+00,  2.0800e+00,  5.1710e+00],\n",
       "       [ 2.8560e+00,  2.7850e+00,  3.2570e+00],\n",
       "       [ 3.6070e+00,  3.5540e+00,  3.1560e+00],\n",
       "       [ 2.5690e+00,  2.3560e+00,  2.3270e+00],\n",
       "       [ 1.9450e+00,  3.2780e+00,  3.6920e+00],\n",
       "       [ 2.0300e+00,  1.0680e+00,  4.8350e+00],\n",
       "       [ 1.5120e+00,  1.5400e+00,  5.8690e+00],\n",
       "       [ 1.4950e+00,  3.0000e-02,  4.2220e+00],\n",
       "       [ 1.9700e+00, -3.6400e-01,  3.4170e+00],\n",
       "       [ 4.4500e-01, -8.2000e-01,  4.7380e+00],\n",
       "       [-3.9700e-01, -1.5400e-01,  4.9160e+00],\n",
       "       [-9.2000e-02, -1.8220e+00,  3.7180e+00],\n",
       "       [-2.9000e-01, -1.3250e+00,  2.8170e+00],\n",
       "       [ 7.1100e-01, -2.4880e+00,  3.4680e+00],\n",
       "       [-1.0240e+00, -2.3210e+00,  4.0300e+00],\n",
       "       [ 6.9800e-01, -1.4910e+00,  6.0160e+00],\n",
       "       [-1.7300e-01, -1.5580e+00,  6.9060e+00],\n",
       "       [ 1.9420e+00, -1.9360e+00,  6.2250e+00],\n",
       "       [ 2.6180e+00, -1.7740e+00,  5.5390e+00],\n",
       "       [ 2.5720e+00, -2.5860e+00,  7.3670e+00],\n",
       "       [ 1.9490e+00, -3.5020e+00,  7.5760e+00],\n",
       "       [ 3.9590e+00, -3.1770e+00,  7.0230e+00],\n",
       "       [ 4.6550e+00, -2.3530e+00,  6.8200e+00],\n",
       "       [ 4.4010e+00, -3.8390e+00,  7.8760e+00],\n",
       "       [ 3.9630e+00, -3.8070e+00,  6.1350e+00],\n",
       "       [ 2.7060e+00, -1.7320e+00,  8.6300e+00],\n",
       "       [ 2.3470e+00, -2.0450e+00,  9.7320e+00],\n",
       "       [ 3.2910e+00, -5.4200e-01,  8.3240e+00],\n",
       "       [ 3.6020e+00, -3.3200e-01,  7.3490e+00],\n",
       "       [ 3.2950e+00,  6.1600e-01,  9.1490e+00],\n",
       "       [ 3.8230e+00,  4.6300e-01,  1.0099e+01],\n",
       "       [ 3.8830e+00,  1.7960e+00,  8.4110e+00],\n",
       "       [ 3.4040e+00,  1.9600e+00,  7.3730e+00],\n",
       "       [ 3.7870e+00,  2.6750e+00,  9.0230e+00],\n",
       "       [ 5.0280e+00,  1.5720e+00,  8.3680e+00],\n",
       "       [ 1.8790e+00,  9.5700e-01,  9.6690e+00],\n",
       "       [ 1.6510e+00,  1.1750e+00,  1.0856e+01],\n",
       "       [ 8.5500e-01,  1.0610e+00,  8.7690e+00],\n",
       "       [ 9.8700e-01,  8.0400e-01,  7.8090e+00],\n",
       "       [-5.0500e-01,  1.4240e+00,  9.1200e+00],\n",
       "       [-4.2200e-01,  2.3130e+00,  9.7330e+00],\n",
       "       [-1.3100e+00,  1.7740e+00,  7.8530e+00],\n",
       "       [-2.3790e+00,  2.1670e+00,  8.0430e+00],\n",
       "       [-6.6100e-01,  2.5290e+00,  7.1900e+00],\n",
       "       [-1.3570e+00,  8.2800e-01,  7.2920e+00],\n",
       "       [-1.3150e+00,  2.8200e-01,  9.9400e+00],\n",
       "       [-1.9720e+00,  5.9900e-01,  1.0900e+01],\n",
       "       [-1.2060e+00, -9.9400e-01,  9.5250e+00],\n",
       "       [-6.2800e-01, -1.2380e+00,  8.7570e+00],\n",
       "       [-1.8740e+00, -2.1080e+00,  1.0130e+01],\n",
       "       [-2.8750e+00, -1.8590e+00,  1.0250e+01],\n",
       "       [-1.6040e+00, -3.4210e+00,  9.3500e+00],\n",
       "       [-1.9760e+00, -3.2360e+00,  8.3500e+00],\n",
       "       [-4.7500e-01, -3.6170e+00,  9.2910e+00],\n",
       "       [-2.2580e+00, -4.2730e+00,  9.8680e+00],\n",
       "       [-1.3430e+00, -2.3000e+00,  1.1574e+01],\n",
       "       [-2.0620e+00, -2.8390e+00,  1.2418e+01],\n",
       "       [ 8.2900e-01, -8.5500e-01,  1.3940e+01],\n",
       "       [ 1.4340e+00, -8.7500e-01,  1.4989e+01],\n",
       "       [ 4.4000e-01,  3.3600e-01,  1.3410e+01],\n",
       "       [ 7.6400e-01,  1.1430e+00,  1.3890e+01],\n",
       "       [-1.9400e-01,  2.9900e-01,  1.2568e+01],\n",
       "       [-7.8000e-02, -1.9230e+00,  1.1839e+01],\n",
       "       [ 4.8500e-01, -1.5230e+00,  1.1142e+01],\n",
       "       [ 4.8400e-01, -2.2180e+00,  1.3174e+01],\n",
       "       [-1.8100e-01, -2.7420e+00,  1.3763e+01],\n",
       "       [ 1.8500e+00, -2.9010e+00,  1.2925e+01],\n",
       "       [ 2.3600e+00, -2.9100e+00,  1.3897e+01],\n",
       "       [ 1.4750e+00, -3.8550e+00,  1.2535e+01],\n",
       "       [ 2.4260e+00, -2.3970e+00,  1.2174e+01]])"
      ]
     },
     "execution_count": 23,
     "metadata": {},
     "output_type": "execute_result"
    }
   ],
   "source": [
    "pdb.coordinates"
   ]
  },
  {
   "cell_type": "code",
   "execution_count": 194,
   "metadata": {},
   "outputs": [],
   "source": [
    "from copy import deepcopy\n",
    "\n",
    "class Energies:\n",
    "    def __init__(self, psf, pdb, prm):\n",
    "        self.psf = psf\n",
    "        self.pdb = pdb\n",
    "        self.prm = prm\n",
    "        \n",
    "        ## initializing bond types and coordinates\n",
    "        coords = pdb.coordinates\n",
    "        bonds = psf.bonds\n",
    "        angles = psf.angles\n",
    "        dihedrals = psf.dihedrals\n",
    "        impropers = psf.impropers\n",
    "        \n",
    "        for bond in bonds:\n",
    "            ## bond types\n",
    "            tid1 = bond.atom1.type\n",
    "            tid2 = bond.atom2.type\n",
    "            \n",
    "            t = (tid1, tid2)\n",
    "            bond.type = prm.bond_types[t]\n",
    "    \n",
    "            ## coordinates\n",
    "            b1 = bond.atom1\n",
    "            b1.xx, b1.xy, b1.xz = coords[b1.idx]\n",
    "            \n",
    "            b2 = bond.atom2\n",
    "            b2.xx, b2.xy, b2.xz = coords[b2.idx]\n",
    "            \n",
    "        ## initializing angle types\n",
    "        for angle in angles:\n",
    "            a1 = angle.atom1.type\n",
    "            a2 = angle.atom2.type\n",
    "            a3 = angle.atom3.type\n",
    "            \n",
    "            t = (a1, a2, a3)\n",
    "            \n",
    "            angle.type = prm.angle_types[t]\n",
    "            a = angle.measure()\n",
    "            a0 = angle.type\n",
    "            \n",
    "        for i, dihedral in enumerate(dihedrals):\n",
    "            a1 = dihedral.atom1.type\n",
    "            a2 = dihedral.atom2.type\n",
    "            a3 = dihedral.atom3.type\n",
    "            a4 = dihedral.atom4.type\n",
    "            \n",
    "            t = (a1, a2, a3, a4)\n",
    "            g = self._get_bond_type(t, prm.dihedral_types)\n",
    "            dihedrals[i].type = prm.dihedral_types[g]\n",
    "            \n",
    "        for i, improper in enumerate(impropers):\n",
    "            a1 = improper.atom1.type\n",
    "            a2 = improper.atom2.type\n",
    "            a3 = improper.atom3.type\n",
    "            a4 = improper.atom4.type\n",
    "            \n",
    "            t = (a1, a2, a3, a4)\n",
    "            g = self._get_bond_type(t, prm.improper_types)\n",
    "            impropers[i].type = prm.improper_types[g]\n",
    "        \n",
    "    def bond(self):\n",
    "        bonds = psf.bonds\n",
    "        s = 0\n",
    "        for bond in bonds:\n",
    "            r1 = pdb.coordinates[bond.atom1.idx]\n",
    "            r2 = pdb.coordinates[bond.atom2.idx]\n",
    "            k = bond.type.k\n",
    "            dist = np.linalg.norm(r1 - r2)\n",
    "            \n",
    "            r0 = bond.type.req\n",
    "            cust_energy = k * ((dist - r0)**2)\n",
    "            s += cust_energy\n",
    "            \n",
    "        return s    \n",
    "    \n",
    "    def angle(self):\n",
    "        s = 0\n",
    "        \n",
    "        for angle in psf.angles:\n",
    "            theta = angle.measure()\n",
    "            theta0 = angle.type.theteq\n",
    "            k = angle.type.k\n",
    "            theta_diff = (np.pi * (theta - theta0)) / 180\n",
    "            en = k * (theta_diff ** 2)\n",
    "#             print(en, angle.energy())\n",
    "            s += en\n",
    "        return s\n",
    "    \n",
    "    ## DIHEDRAL AND IMPROPER HELPER FUNCTION\n",
    "    def _get_bond_type(self, t, search_list):\n",
    "        '''\n",
    "        Input :\n",
    "        t : a 4-atom tuple, \n",
    "        search_list: usually prm.dihedral_types or prm.improper_types\n",
    "\n",
    "        Return type: BondType\n",
    "        '''\n",
    "        for dtype in search_list:\n",
    "            val = True\n",
    "            for i in range(4):\n",
    "                val = val and (dtype[i] == t[i] or dtype[i] == 'X')\n",
    "\n",
    "            if val:\n",
    "                return dtype\n",
    "\n",
    "            ## Attempt reverse search\n",
    "            val = True\n",
    "            for i in range(4):\n",
    "                val = val and (dtype[i] == t[3 - i] or dtype[i] == 'X')\n",
    "\n",
    "            if val:\n",
    "                return dtype\n",
    "        return None\n",
    "    \n",
    "    def dihedral(self):\n",
    "        dihedrals = psf.dihedrals\n",
    "        for dihed in dihedrals:\n",
    "            dtype = dihed.type\n",
    "            \n",
    "            total_energy = 0\n",
    "            chi = dihed.measure() * (np.pi / 180)\n",
    "            if isinstance(dtype, parmed.DihedralType):\n",
    "                n = dtype.per\n",
    "                kchi = dtype.phi_k\n",
    "                phase = dtype.phase * (np.pi / 180)\n",
    "                en = kchi * (1 + np.cos(n * chi - phase))\n",
    "                total_energy += en\n",
    "                \n",
    "            elif isinstance(dtype, parmed.DihedralTypeList):\n",
    "                e = 0\n",
    "                for term in dtype:\n",
    "                    n = term.per\n",
    "                    kchi = term.phi_k\n",
    "                    phase = term.phase * (np.pi / 180)\n",
    "                    en = kchi * (1 + np.cos(n * chi - phase))\n",
    "                    e += en\n",
    "                e *= 0.5\n",
    "                total_energy += e\n",
    "            else:\n",
    "                printf(\"Cant determine parameters for {}\".format(t))\n",
    "                return 0\n",
    "        return total_energy\n",
    "    \n",
    "    def improper(self):\n",
    "        impropers = psf.impropers\n",
    "        total_energy = 0\n",
    "        for imp in impropers:\n",
    "            psi = imp.measure() * (np.pi / 180)\n",
    "            dtype = imp.type\n",
    "            psi_0 = dtype.psi_eq * (np.pi / 180)\n",
    "            k = dtype.psi_k \n",
    "            en = k *(psi - psi_0)**2\n",
    "            \n",
    "            total_energy += en\n",
    "            \n",
    "        return total_energy"
   ]
  },
  {
   "cell_type": "code",
   "execution_count": 195,
   "metadata": {},
   "outputs": [
    {
     "name": "stdout",
     "output_type": "stream",
     "text": [
      "0.9698912223623081 0.9698912223623081\n",
      "0.09018659077689004 0.09018659077689004\n",
      "0.08584627386029502 0.08584627386029502\n",
      "0.000265297789331319 0.000265297789331319\n",
      "0.03967585536788052 0.03967585536788052\n",
      "0.006065594646719285 0.006065594646719285\n",
      "0.00045767413464927056 0.00045767413464927056\n",
      "0.40038766650340996 0.4003876665034099\n",
      "0.2772816712480321 0.2772816712480321\n",
      "0.03920594360665207 0.039205943606652076\n",
      "0.0015944380511331482 0.0015944380511331484\n",
      "0.3416553524423491 0.3416553524423491\n",
      "0.04683377326202717 0.046833773262027166\n",
      "0.05138463158083678 0.05138463158083679\n",
      "0.010112412302053597 0.010112412302053595\n",
      "0.0008691457969711306 0.0008691457969711306\n",
      "0.10360872064637176 0.10360872064637178\n",
      "9.255532156570046e-07 9.255532156570045e-07\n",
      "9.255532156570046e-07 9.255532156570045e-07\n",
      "0.0019579274442927423 0.0019579274442927423\n",
      "0.0018965713002731578 0.0018965713002731578\n",
      "0.032289253511736914 0.032289253511736914\n"
     ]
    },
    {
     "data": {
      "text/plain": [
       "2.501467867740645"
      ]
     },
     "execution_count": 195,
     "metadata": {},
     "output_type": "execute_result"
    }
   ],
   "source": [
    "h = Energies(psf, pdb, prm)\n",
    "h.improper()"
   ]
  },
  {
   "cell_type": "code",
   "execution_count": null,
   "metadata": {},
   "outputs": [],
   "source": []
  },
  {
   "cell_type": "code",
   "execution_count": null,
   "metadata": {},
   "outputs": [],
   "source": []
  }
 ],
 "metadata": {
  "kernelspec": {
   "display_name": "MD",
   "language": "python",
   "name": "md"
  },
  "language_info": {
   "codemirror_mode": {
    "name": "ipython",
    "version": 3
   },
   "file_extension": ".py",
   "mimetype": "text/x-python",
   "name": "python",
   "nbconvert_exporter": "python",
   "pygments_lexer": "ipython3",
   "version": "3.6.12"
  }
 },
 "nbformat": 4,
 "nbformat_minor": 2
}
