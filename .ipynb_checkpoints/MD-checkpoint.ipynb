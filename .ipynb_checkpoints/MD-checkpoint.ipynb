{
 "cells": [
  {
   "cell_type": "code",
   "execution_count": 16,
   "metadata": {},
   "outputs": [],
   "source": [
    "import numpy as np\n",
    "import MDAnalysis as MD\n",
    "import matplotlib.pyplot as plt\n",
    "\n",
    "%matplotlib inline\n"
   ]
  },
  {
   "cell_type": "code",
   "execution_count": 2,
   "metadata": {},
   "outputs": [
    {
     "name": "stdout",
     "output_type": "stream",
     "text": [
      "/home/shaunak/anaconda3/envs/MD/lib/python3.6/site-packages/MDAnalysisTests/data/adk.psf /home/shaunak/anaconda3/envs/MD/lib/python3.6/site-packages/MDAnalysisTests/data/adk_dims.dcd\n"
     ]
    }
   ],
   "source": [
    "from MDAnalysis.tests.datafiles import PSF, DCD\n",
    "print(PSF, DCD)"
   ]
  },
  {
   "cell_type": "code",
   "execution_count": 3,
   "metadata": {},
   "outputs": [],
   "source": [
    "psf = 'inp_files/da.psf'\n",
    "pdb = 'inp_files/smd_ini.pdb'"
   ]
  },
  {
   "cell_type": "code",
   "execution_count": 4,
   "metadata": {},
   "outputs": [],
   "source": [
    "u = MD.Universe(psf, pdb)"
   ]
  },
  {
   "cell_type": "code",
   "execution_count": 8,
   "metadata": {},
   "outputs": [
    {
     "name": "stdout",
     "output_type": "stream",
     "text": [
      "(104, 3)\n"
     ]
    }
   ],
   "source": [
    "print(u.atoms.positions.shape)"
   ]
  },
  {
   "cell_type": "code",
   "execution_count": 9,
   "metadata": {},
   "outputs": [],
   "source": [
    "initial_positions = u.atoms.positions\n",
    "mass = u.atoms.masses\n",
    "m = mass.sum()"
   ]
  },
  {
   "cell_type": "code",
   "execution_count": 169,
   "metadata": {},
   "outputs": [],
   "source": []
  },
  {
   "cell_type": "code",
   "execution_count": 170,
   "metadata": {},
   "outputs": [],
   "source": []
  },
  {
   "cell_type": "code",
   "execution_count": 205,
   "metadata": {},
   "outputs": [
    {
     "name": "stdout",
     "output_type": "stream",
     "text": [
      "3.141592653589793\n",
      "0.2154833192345014\n"
     ]
    }
   ],
   "source": []
  },
  {
   "cell_type": "code",
   "execution_count": 206,
   "metadata": {},
   "outputs": [],
   "source": []
  },
  {
   "cell_type": "code",
   "execution_count": 207,
   "metadata": {},
   "outputs": [
    {
     "name": "stdout",
     "output_type": "stream",
     "text": [
      "2151.479903436282\n"
     ]
    }
   ],
   "source": []
  },
  {
   "cell_type": "code",
   "execution_count": 208,
   "metadata": {},
   "outputs": [
    {
     "name": "stdout",
     "output_type": "stream",
     "text": [
      "463.60803085877455\n"
     ]
    }
   ],
   "source": []
  },
  {
   "cell_type": "code",
   "execution_count": 209,
   "metadata": {},
   "outputs": [
    {
     "data": {
      "text/plain": [
       "<matplotlib.collections.PathCollection at 0x7f3f2e0dcdd8>"
      ]
     },
     "execution_count": 209,
     "metadata": {},
     "output_type": "execute_result"
    },
    {
     "data": {
      "image/png": "[encoded data removed]",
      "text/plain": [
       "<Figure size 432x288 with 1 Axes>"
      ]
     },
     "metadata": {
      "needs_background": "light"
     },
     "output_type": "display_data"
    }
   ],
   "source": []
  },
  {
   "cell_type": "code",
   "execution_count": 202,
   "metadata": {},
   "outputs": [
    {
     "name": "stdout",
     "output_type": "stream",
     "text": [
      "0.0\n"
     ]
    }
   ],
   "source": [
    "print(h.sum())"
   ]
  },
  {
   "cell_type": "code",
   "execution_count": 81,
   "metadata": {},
   "outputs": [],
   "source": [
    "pos_shape = initial_positions.shape\n",
    "_3N = np.prod(pos_shape)"
   ]
  },
  {
   "cell_type": "code",
   "execution_count": 82,
   "metadata": {},
   "outputs": [
    {
     "ename": "ValueError",
     "evalue": "probabilities do not sum to 1",
     "output_type": "error",
     "traceback": [
      "\u001b[0;31m---------------------------------------------------------------------------\u001b[0m",
      "\u001b[0;31mValueError\u001b[0m                                Traceback (most recent call last)",
      "\u001b[0;32m<ipython-input-82-0520a00008e9>\u001b[0m in \u001b[0;36m<module>\u001b[0;34m\u001b[0m\n\u001b[0;32m----> 1\u001b[0;31m \u001b[0minitial_velocities\u001b[0m \u001b[0;34m=\u001b[0m \u001b[0mnp\u001b[0m\u001b[0;34m.\u001b[0m\u001b[0mrandom\u001b[0m\u001b[0;34m.\u001b[0m\u001b[0mchoice\u001b[0m\u001b[0;34m(\u001b[0m\u001b[0mv\u001b[0m\u001b[0;34m,\u001b[0m \u001b[0m_3N\u001b[0m\u001b[0;34m,\u001b[0m \u001b[0mp\u001b[0m\u001b[0;34m=\u001b[0m\u001b[0mh\u001b[0m\u001b[0;34m)\u001b[0m\u001b[0;34m\u001b[0m\u001b[0;34m\u001b[0m\u001b[0m\n\u001b[0m",
      "\u001b[0;32mmtrand.pyx\u001b[0m in \u001b[0;36mnumpy.random.mtrand.RandomState.choice\u001b[0;34m()\u001b[0m\n",
      "\u001b[0;31mValueError\u001b[0m: probabilities do not sum to 1"
     ]
    }
   ],
   "source": [
    "initial_velocities = np.random.choice(v, _3N, p=h)"
   ]
  },
  {
   "cell_type": "markdown",
   "metadata": {},
   "source": [
    "# FUCK BOLTZMANN DISTRIBUTION"
   ]
  },
  {
   "cell_type": "code",
   "execution_count": 212,
   "metadata": {},
   "outputs": [
    {
     "ename": "NameError",
     "evalue": "name 'u_shape' is not defined",
     "output_type": "error",
     "traceback": [
      "\u001b[0;31m---------------------------------------------------------------------------\u001b[0m",
      "\u001b[0;31mNameError\u001b[0m                                 Traceback (most recent call last)",
      "\u001b[0;32m<ipython-input-212-2f92375591d7>\u001b[0m in \u001b[0;36m<module>\u001b[0;34m\u001b[0m\n\u001b[0;32m----> 1\u001b[0;31m \u001b[0mu\u001b[0m \u001b[0;34m=\u001b[0m \u001b[0mnp\u001b[0m\u001b[0;34m.\u001b[0m\u001b[0mrandom\u001b[0m\u001b[0;34m.\u001b[0m\u001b[0mchoice\u001b[0m\u001b[0;34m(\u001b[0m\u001b[0mv\u001b[0m\u001b[0;34m,\u001b[0m \u001b[0m_3N\u001b[0m\u001b[0;34m)\u001b[0m\u001b[0;34m.\u001b[0m\u001b[0mreshape\u001b[0m\u001b[0;34m(\u001b[0m\u001b[0mu_shape\u001b[0m\u001b[0;34m)\u001b[0m\u001b[0;34m\u001b[0m\u001b[0;34m\u001b[0m\u001b[0m\n\u001b[0m",
      "\u001b[0;31mNameError\u001b[0m: name 'u_shape' is not defined"
     ]
    }
   ],
   "source": [
    "u = np.random.choice(v, _3N).reshape(u_shape)"
   ]
  },
  {
   "cell_type": "code",
   "execution_count": 211,
   "metadata": {},
   "outputs": [
    {
     "name": "stdout",
     "output_type": "stream",
     "text": [
      "[5.12512513 2.87287287 6.5965966  5.01501502 8.84884885 3.65365365\n",
      " 5.45545546 3.37337337 2.45245245 1.83183183 8.2982983  5.90590591\n",
      " 6.90690691 3.33333333 4.54454454 7.93793794 2.68268268 9.40940941\n",
      " 2.69269269 7.81781782 9.08908909 5.82582583 5.96596597 7.86786787\n",
      " 3.43343343 9.38938939 1.08108108 9.63963964 9.87987988 4.76476476\n",
      " 1.09109109 8.72872873 4.08408408 8.40840841 5.83583584 0.52052052\n",
      " 9.91991992 3.27327327 0.14014014 8.98898899 8.11811812 5.83583584\n",
      " 5.75575576 7.85785786 6.56656657 8.2982983  3.13313313 2.06206206\n",
      " 4.65465465 2.53253253 3.62362362 1.57157157 4.08408408 8.30830831\n",
      " 4.26426426 3.65365365 6.28628629 3.47347347 4.72472472 1.5015015\n",
      " 5.37537538 4.71471471 6.96696697 1.74174174 0.6006006  1.24124124\n",
      " 4.18418418 8.35835836 4.9049049  9.86986987 8.45845846 0.91091091\n",
      " 8.45845846 0.57057057 6.98698699 2.8028028  4.44444444 3.71371371\n",
      " 0.46046046 0.04004004 1.02102102 0.41041041 0.19019019 8.15815816\n",
      " 0.85085085 1.48148148 6.75675676 2.07207207 1.69169169 2.4024024\n",
      " 0.15015015 1.27127127 5.04504505 8.21821822 2.33233233 8.27827828\n",
      " 4.07407407 0.4004004  6.02602603 6.3963964  2.04204204 2.92292292\n",
      " 0.24024024 9.77977978 8.02802803 4.004004   7.11711712 1.37137137\n",
      " 3.43343343 3.37337337 0.91091091 1.79179179 5.56556557 4.25425425\n",
      " 0.71071071 9.63963964 4.11411411 8.998999   0.45045045 8.12812813\n",
      " 5.02502503 6.41641642 8.74874875 7.13713714 3.01301301 5.68568569\n",
      " 4.21421421 4.02402402 6.6966967  2.13213213 5.93593594 9.34934935\n",
      " 9.21921922 7.4974975  2.13213213 4.69469469 4.68468468 9.1991992\n",
      " 9.75975976 7.1971972  6.01601602 2.24224224 5.30530531 6.26626627\n",
      " 2.88288288 3.19319319 0.08008008 7.16716717 0.94094094 5.56556557\n",
      " 5.995996   1.54154154 0.4004004  1.97197197 3.94394394 5.65565566\n",
      " 6.10610611 3.85385385 1.62162162 3.22322322 7.43743744 5.995996\n",
      " 9.33933934 6.85685686 7.44744745 6.22622623 3.77377377 5.92592593\n",
      " 2.43243243 0.22022022 6.80680681 9.35935936 8.78878879 5.92592593\n",
      " 7.17717718 3.22322322 6.10610611 6.94694695 7.6976977  6.93693694\n",
      " 5.36536537 6.75675676 6.61661662 8.26826827 8.21821822 1.19119119\n",
      " 6.14614615 8.28828829 9.63963964 3.1031031  7.91791792 5.46546547\n",
      " 7.50750751 6.62662663 0.27027027 0.24024024 4.4044044  2.74274274\n",
      " 9.85985986 3.77377377 9.5995996  4.69469469 5.03503504 6.71671672\n",
      " 4.86486486 3.99399399 5.07507508 4.68468468 0.48048048 2.27227227\n",
      " 3.89389389 2.26226226 5.27527528 8.33833834 0.31031031 2.21221221\n",
      " 8.42842843 3.4034034  2.38238238 5.11511512 4.24424424 2.21221221\n",
      " 4.18418418 1.23123123 2.11211211 4.75475475 5.43543544 2.91291291\n",
      " 1.24124124 4.51451451 2.67267267 5.88588589 0.56056056 7.26726727\n",
      " 7.01701702 5.51551552 5.22522523 1.001001   4.73473473 4.31431431\n",
      " 8.63863864 5.26526527 2.08208208 0.77077077 2.76276276 6.44644645\n",
      " 8.00800801 6.72672673 3.3033033  0.89089089 3.92392392 3.09309309\n",
      " 6.86686687 2.76276276 0.38038038 0.67067067 0.49049049 4.88488488\n",
      " 7.6976977  9.52952953 2.31231231 4.4044044  1.54154154 7.53753754\n",
      " 4.75475475 2.13213213 1.85185185 5.33533534 4.68468468 5.34534535\n",
      " 1.63163163 4.91491491 9.55955956 6.27627628 6.70670671 9.2992993\n",
      " 0.57057057 1.52152152 5.61561562 1.66166166 1.96196196 9.63963964\n",
      " 6.45645646 0.23023023 5.70570571 1.92192192 0.55055055 1.52152152\n",
      " 5.22522523 0.63063063 0.14014014 5.07507508 6.68668669 9.10910911\n",
      " 5.01501502 0.16016016 7.38738739 8.31831832 1.04104104 4.58458458\n",
      " 5.76576577 7.78778779 7.25725726 9.02902903 9.23923924 8.86886887\n",
      " 4.38438438 4.62462462 3.24324324 0.48048048 9.77977978 7.57757758]\n"
     ]
    }
   ],
   "source": [
    "print(u)"
   ]
  },
  {
   "cell_type": "code",
   "execution_count": null,
   "metadata": {},
   "outputs": [],
   "source": []
  }
 ],
 "metadata": {
  "kernelspec": {
   "display_name": "MD",
   "language": "python",
   "name": "md"
  },
  "language_info": {
   "codemirror_mode": {
    "name": "ipython",
    "version": 3
   },
   "file_extension": ".py",
   "mimetype": "text/x-python",
   "name": "python",
   "nbconvert_exporter": "python",
   "pygments_lexer": "ipython3",
   "version": "3.6.12"
  }
 },
 "nbformat": 4,
 "nbformat_minor": 2
}
