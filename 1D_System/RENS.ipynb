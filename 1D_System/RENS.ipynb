{
 "cells": [
  {
   "cell_type": "code",
   "execution_count": 16,
   "metadata": {},
   "outputs": [],
   "source": [
    "import numpy as np"
   ]
  },
  {
   "cell_type": "markdown",
   "metadata": {},
   "source": [
    "## Temperature to velocities"
   ]
  },
  {
   "cell_type": "code",
   "execution_count": 106,
   "metadata": {},
   "outputs": [],
   "source": [
    "h = []"
   ]
  },
  {
   "cell_type": "code",
   "execution_count": 119,
   "metadata": {},
   "outputs": [],
   "source": [
    "d = 1\n",
    "n = 10\n",
    "m = np.ones((n, 1))\n",
    "Reduced_Temp = 1\n",
    "Multiplier = 119.8\n",
    "T = Reduced_Temp * Multiplier"
   ]
  },
  {
   "cell_type": "code",
   "execution_count": 120,
   "metadata": {},
   "outputs": [],
   "source": [
    "def generate_velocities(number_particles, system_dimension, masses, temperature):\n",
    "    import math\n",
    "    while(len(h) < number_particles * system_dimension):\n",
    "        r2 = 0\n",
    "        while r2 >= 1 or r2 == 0:\n",
    "            x = 2 * random.uniform(0, 1) - 1\n",
    "            y = 2 * random.uniform(0, 1) - 1\n",
    "            r2 = x**2 + y**2\n",
    "        mult = math.sqrt(- 2 * math.log(r2) / r2)\n",
    "        h.extend([x*mult, y*mult])\n",
    "    vels = np.array(h).reshape(-1, 1).astype('float32')\n",
    "    scaledvels = vels * np.sqrt(BOLTZ * temperature / masses)\n",
    "    return scaledvels"
   ]
  },
  {
   "cell_type": "code",
   "execution_count": 121,
   "metadata": {},
   "outputs": [],
   "source": [
    "returned_vels = generate_velocities(n, d, m, T)"
   ]
  },
  {
   "cell_type": "code",
   "execution_count": 122,
   "metadata": {},
   "outputs": [
    {
     "name": "stdout",
     "output_type": "stream",
     "text": [
      "[[-0.27614507]\n",
      " [ 0.02306323]\n",
      " [ 0.10312074]\n",
      " [-0.33503203]\n",
      " [ 0.917675  ]\n",
      " [ 1.46087223]\n",
      " [ 1.41470864]\n",
      " [-0.13811514]\n",
      " [ 0.47832298]\n",
      " [ 1.66875018]]\n"
     ]
    }
   ],
   "source": [
    "print(returned_vels)"
   ]
  },
  {
   "cell_type": "markdown",
   "metadata": {},
   "source": [
    "## Generating the potential energy function from Frenkel"
   ]
  },
  {
   "cell_type": "code",
   "execution_count": 5,
   "metadata": {},
   "outputs": [],
   "source": [
    "def pot_energy(x):\n",
    "    rv = 1e5\n",
    "    if x >= -2 and x <= -1.25:\n",
    "        rv = 1 + np.sin(2 * np.pi * x)\n",
    "    \n",
    "    if x >= -1.25 and x <= -0.25:\n",
    "        rv = 2 * (1 + np.sin(2 * np.pi * x))\n",
    "        \n",
    "    if x >= -0.25 and x <= 0.75:\n",
    "        rv = 3 * (1 + np.sin(2 * np.pi * x))\n",
    "                  \n",
    "    if x >= 0.75 and x <= 1.75:\n",
    "        rv = 4 * (1 + np.sin(2 * np.pi * x))\n",
    "                  \n",
    "    if x >= 1.75 and x <= 2:\n",
    "        rv = 5 * (1 + np.sin(2 * np.pi * x))\n",
    "                  \n",
    "    return rv"
   ]
  },
  {
   "cell_type": "code",
   "execution_count": 6,
   "metadata": {},
   "outputs": [],
   "source": [
    "x = np.linspace(-5, 5, 1000)\n",
    "U = np.array(list(map(pot_energy, x)))\n"
   ]
  },
  {
   "cell_type": "code",
   "execution_count": 7,
   "metadata": {},
   "outputs": [
    {
     "data": {
      "text/plain": [
       "[<matplotlib.lines.Line2D at 0x7f07796d07f0>]"
      ]
     },
     "execution_count": 7,
     "metadata": {},
     "output_type": "execute_result"
    },
    {
     "data": {
      "image/png": "[encoded data removed]",
      "text/plain": [
       "<Figure size 432x288 with 1 Axes>"
      ]
     },
     "metadata": {
      "needs_background": "light"
     },
     "output_type": "display_data"
    }
   ],
   "source": [
    "plt.plot(x, U)"
   ]
  },
  {
   "cell_type": "markdown",
   "metadata": {},
   "source": [
    "## Generating the force function"
   ]
  },
  {
   "cell_type": "code",
   "execution_count": 9,
   "metadata": {},
   "outputs": [],
   "source": [
    "def force(x):\n",
    "    lorge = 1e2\n",
    "    if x < -2:\n",
    "        return lorge\n",
    "    if x > 2:\n",
    "        return -1 * lorge\n",
    "    rv = 0\n",
    "    if x >= -2 and x <= -1.25:\n",
    "        rv = -2 * np.pi * np.cos(2 * np.pi * x)\n",
    "    \n",
    "    if x >= -1.25 and x <= -0.25:\n",
    "        rv = -4 * np.pi * np.cos(2 * np.pi * x)\n",
    "        \n",
    "    if x >= -0.25 and x <= 0.75:\n",
    "        rv = -6 * np.pi * np.cos(2 * np.pi * x)\n",
    "                  \n",
    "    if x >= 0.75 and x <= 1.75:\n",
    "        rv = -8 * np.pi * np.cos(2 * np.pi * x)\n",
    "        \n",
    "    if x >= 1.75 and x <= 2:\n",
    "        rv = -10 * np.pi * np.cos(2 * np.pi * x)\n",
    "                  \n",
    "    return rv"
   ]
  },
  {
   "cell_type": "code",
   "execution_count": 10,
   "metadata": {},
   "outputs": [],
   "source": [
    "f = np.array(list(map(force, x)))"
   ]
  },
  {
   "cell_type": "code",
   "execution_count": 11,
   "metadata": {},
   "outputs": [
    {
     "data": {
      "text/plain": [
       "[<matplotlib.lines.Line2D at 0x7f0779669668>]"
      ]
     },
     "execution_count": 11,
     "metadata": {},
     "output_type": "execute_result"
    },
    {
     "data": {
      "image/png": "[encoded data removed]",
      "text/plain": [
       "<Figure size 432x288 with 1 Axes>"
      ]
     },
     "metadata": {
      "needs_background": "light"
     },
     "output_type": "display_data"
    }
   ],
   "source": [
    "plt.plot(x, f)"
   ]
  },
  {
   "cell_type": "markdown",
   "metadata": {},
   "source": [
    "## Integrator : Simulating NVE dynamics for the PE function for 1 particle"
   ]
  },
  {
   "cell_type": "code",
   "execution_count": 12,
   "metadata": {},
   "outputs": [],
   "source": [
    "def step(x, v, dt = 0.001, m = 1):\n",
    "    f = force(x)\n",
    "    x_new = x + dt * v + dt * dt * f / (2 * m)\n",
    "    f_new = force(x_new)\n",
    "    v_new = v + dt * (f + f_new) / (2 * m)\n",
    "    return x_new, v_new"
   ]
  },
  {
   "cell_type": "code",
   "execution_count": 13,
   "metadata": {},
   "outputs": [],
   "source": [
    "x = 1.0\n",
    "v = 0.01\n",
    "no_of_steps = 10000"
   ]
  },
  {
   "cell_type": "code",
   "execution_count": 14,
   "metadata": {},
   "outputs": [],
   "source": [
    "pos = []\n",
    "vel = []\n",
    "pos.append(x)\n",
    "vel.append(v)"
   ]
  },
  {
   "cell_type": "code",
   "execution_count": 81,
   "metadata": {},
   "outputs": [],
   "source": [
    "for t in range(no_of_steps):\n",
    "    x_new, v_new = step(x, v)\n",
    "    x, v = x_new, v_new\n",
    "    pos.append(x)\n",
    "    vel.append(v_new)"
   ]
  },
  {
   "cell_type": "code",
   "execution_count": 82,
   "metadata": {},
   "outputs": [
    {
     "data": {
      "text/plain": [
       "[<matplotlib.lines.Line2D at 0x7f8c1f45a0b8>]"
      ]
     },
     "execution_count": 82,
     "metadata": {},
     "output_type": "execute_result"
    },
    {
     "data": {
      "image/png": "[encoded data removed]",
      "text/plain": [
       "<Figure size 432x288 with 1 Axes>"
      ]
     },
     "metadata": {
      "needs_background": "light"
     },
     "output_type": "display_data"
    }
   ],
   "source": [
    "x_axis = np.linspace(-5, 5, 1000)\n",
    "plt.plot(x_axis, U)\n",
    "U_all = np.array(list(map(pot_energy, pos)))\n",
    "plt.plot(pos, U_all, color='red')"
   ]
  },
  {
   "cell_type": "markdown",
   "metadata": {},
   "source": [
    "## Coorelating Temperature into the system : Andersen Thermostat"
   ]
  },
  {
   "cell_type": "markdown",
   "metadata": {},
   "source": [
    "### Initialization of system"
   ]
  },
  {
   "cell_type": "code",
   "execution_count": 168,
   "metadata": {},
   "outputs": [],
   "source": [
    "T = 2.0"
   ]
  },
  {
   "cell_type": "code",
   "execution_count": 201,
   "metadata": {},
   "outputs": [],
   "source": [
    "n_p = 108\n",
    "dt = 1e-4"
   ]
  },
  {
   "cell_type": "code",
   "execution_count": 202,
   "metadata": {},
   "outputs": [],
   "source": [
    "x_range = np.linspace(-1.7, 1.7, 1000)\n",
    "req_shape = (n_p, 1)\n",
    "x = np.random.choice(x_range, req_shape)\n",
    "v = np.random.random(req_shape) - 0.5"
   ]
  },
  {
   "cell_type": "code",
   "execution_count": 203,
   "metadata": {},
   "outputs": [],
   "source": [
    "m = np.ones(req_shape)\n",
    "v_com = np.sum(m * v, axis = 0) / np.sum(m)"
   ]
  },
  {
   "cell_type": "code",
   "execution_count": 204,
   "metadata": {},
   "outputs": [],
   "source": [
    "KE = np.sum(m * v**2) / 2"
   ]
  },
  {
   "cell_type": "code",
   "execution_count": 205,
   "metadata": {},
   "outputs": [],
   "source": [
    "scaling_factor = np.sqrt(3 * T / (KE * n_p))\n",
    "v = (v - v_com) * scaling_factor"
   ]
  },
  {
   "cell_type": "code",
   "execution_count": 206,
   "metadata": {},
   "outputs": [],
   "source": [
    "force_t = np.array(list(map(force, x)))"
   ]
  },
  {
   "cell_type": "code",
   "execution_count": 207,
   "metadata": {},
   "outputs": [],
   "source": [
    "def integrate(switch, x, v, f, temp, nu = 0.01):\n",
    "    if switch == 1:\n",
    "        x_new = x + dt * v + (f / m) * dt * dt / 2\n",
    "        v_new = v + dt * (f / (2 * m))\n",
    "    elif switch == 2:\n",
    "        v_new = v + dt * (f / (2 * m))\n",
    "        KE = m * (v_new ** 2)\n",
    "        sigma = np.sqrt(temp)\n",
    "        probs = np.random.random(size = (n_p, 1))\n",
    "        g = np.random.normal(0, sigma, n_p).reshape(-1, 1)\n",
    "        ind = probs < nu * dt\n",
    "        if ind.any():\n",
    "            print(\"Gaussian velocity replaced\")\n",
    "        v_new = (probs > nu * dt) * v  + (probs < nu * dt) * g\n",
    "        x_new = x\n",
    "    return x_new, v_new\n",
    "        "
   ]
  },
  {
   "cell_type": "code",
   "execution_count": 208,
   "metadata": {},
   "outputs": [],
   "source": [
    "x_new, v_new = integrate(1, x, v, force_t, T)\n",
    "f_new = np.array(list(map(force, x_new)))\n",
    "x_new, v_new = integrate(2, x_new, v_new, f_new, T)"
   ]
  },
  {
   "cell_type": "code",
   "execution_count": 209,
   "metadata": {},
   "outputs": [
    {
     "data": {
      "text/plain": [
       "Text(0.5, 1.0, 'Initial starting positions')"
      ]
     },
     "execution_count": 209,
     "metadata": {},
     "output_type": "execute_result"
    },
    {
     "data": {
      "image/png": "[encoded data removed]",
      "text/plain": [
       "<Figure size 432x288 with 1 Axes>"
      ]
     },
     "metadata": {
      "needs_background": "light"
     },
     "output_type": "display_data"
    }
   ],
   "source": [
    "U = np.array(list(map(pot_energy, x_range)))\n",
    "plt.plot(x_range, U)\n",
    "U_x = np.array(list(map(pot_energy, x)))\n",
    "plt.scatter(x, U_x, color = 'red')\n",
    "plt.title(\"Initial starting positions\")"
   ]
  },
  {
   "cell_type": "markdown",
   "metadata": {},
   "source": [
    "### Running a simulation of Andersen Thermostat for nsteps = 10000"
   ]
  },
  {
   "cell_type": "code",
   "execution_count": 210,
   "metadata": {},
   "outputs": [],
   "source": [
    "nstep = 10000\n",
    "outFreq = 100"
   ]
  },
  {
   "cell_type": "code",
   "execution_count": 211,
   "metadata": {},
   "outputs": [],
   "source": [
    "vels = v"
   ]
  },
  {
   "cell_type": "code",
   "execution_count": 212,
   "metadata": {},
   "outputs": [
    {
     "name": "stdout",
     "output_type": "stream",
     "text": [
      "Gaussian velocity replaced\n",
      "Gaussian velocity replaced\n"
     ]
    }
   ],
   "source": [
    "for step in range(1, nstep + 1):\n",
    "    x_n, v_n = integrate(1, x, v, force_t, T)\n",
    "    f_n = np.array(list(map(force, x_new)))\n",
    "    x_n, v_n = integrate(2, x_n, v_n, f_n, T)\n",
    "#     print(np.linalg.norm(x_n - x))\n",
    "    if step % outFreq:\n",
    "        vels = np.hstack((vels, v))\n",
    "    x, v = x_n, v_n\n"
   ]
  },
  {
   "cell_type": "code",
   "execution_count": 213,
   "metadata": {},
   "outputs": [],
   "source": [
    "def hist(vels):\n",
    "    h = np.around(vels, 2)\n",
    "    vel_vals, vel_count = np.unique(h, return_counts = True)\n",
    "    return vel_vals, (vel_count / vel_count.sum())"
   ]
  },
  {
   "cell_type": "code",
   "execution_count": 214,
   "metadata": {},
   "outputs": [],
   "source": [
    "b_x, b_y = hist(vels)"
   ]
  },
  {
   "cell_type": "code",
   "execution_count": 215,
   "metadata": {},
   "outputs": [
    {
     "data": {
      "text/plain": [
       "[<matplotlib.lines.Line2D at 0x7f2291f194e0>]"
      ]
     },
     "execution_count": 215,
     "metadata": {},
     "output_type": "execute_result"
    },
    {
     "data": {
      "image/png": "[encoded data removed]",
      "text/plain": [
       "<Figure size 432x288 with 1 Axes>"
      ]
     },
     "metadata": {
      "needs_background": "light"
     },
     "output_type": "display_data"
    }
   ],
   "source": [
    "plt.plot(b_x, b_y)"
   ]
  },
  {
   "cell_type": "code",
   "execution_count": 216,
   "metadata": {},
   "outputs": [
    {
     "data": {
      "text/plain": [
       "[<matplotlib.lines.Line2D at 0x7f22921625c0>]"
      ]
     },
     "execution_count": 216,
     "metadata": {},
     "output_type": "execute_result"
    },
    {
     "data": {
      "image/png": "[encoded data removed]",
      "text/plain": [
       "<Figure size 432x288 with 1 Axes>"
      ]
     },
     "metadata": {
      "needs_background": "light"
     },
     "output_type": "display_data"
    }
   ],
   "source": [
    "plt.plot(x)"
   ]
  },
  {
   "cell_type": "code",
   "execution_count": null,
   "metadata": {},
   "outputs": [],
   "source": []
  }
 ],
 "metadata": {
  "kernelspec": {
   "display_name": "MD",
   "language": "python",
   "name": "md"
  },
  "language_info": {
   "codemirror_mode": {
    "name": "ipython",
    "version": 3
   },
   "file_extension": ".py",
   "mimetype": "text/x-python",
   "name": "python",
   "nbconvert_exporter": "python",
   "pygments_lexer": "ipython3",
   "version": "3.6.12"
  }
 },
 "nbformat": 4,
 "nbformat_minor": 2
}
