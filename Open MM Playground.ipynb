{
 "cells": [
  {
   "cell_type": "code",
   "execution_count": 1,
   "metadata": {},
   "outputs": [],
   "source": [
    "from simtk import openmm, unit"
   ]
  },
  {
   "cell_type": "code",
   "execution_count": 2,
   "metadata": {},
   "outputs": [
    {
     "name": "stdout",
     "output_type": "stream",
     "text": [
      "['_value', 'unit', '__module__', '__doc__', '__array_priority__', '__init__', '__getstate__', '__setstate__', '__copy__', '__deepcopy__', '__getattr__', '__str__', '__repr__', 'format', '__add__', '__sub__', '__eq__', '__ne__', '__lt__', '__ge__', '__gt__', '__le__', '_reduce_cache', 'reduce_unit', '__mul__', '__rmul__', '__truediv__', '__div__', '__rtruediv__', '__rdiv__', '__pow__', 'sqrt', 'sum', 'mean', 'std', 'max', 'min', 'reshape', '__abs__', '__pos__', '__neg__', '__nonzero__', '__bool__', '__complex__', '__float__', '__int__', '__long__', 'value_in_unit', 'value_in_unit_system', 'in_unit_system', 'in_units_of', '_change_units_with_factor', '_scale_sequence', '__len__', '__getitem__', '__setitem__', '__delitem__', '__contains__', '__iter__', 'count', 'index', 'append', 'extend', 'insert', 'remove', 'pop', '__dict__', '__weakref__', '__hash__', '__getattribute__', '__setattr__', '__delattr__', '__new__', '__reduce_ex__', '__reduce__', '__subclasshook__', '__init_subclass__', '__format__', '__sizeof__', '__dir__', '__class__']\n"
     ]
    }
   ],
   "source": [
    "temperature = 298.0 * unit.kelvin\n",
    "print(temperature.__dir__())"
   ]
  },
  {
   "cell_type": "code",
   "execution_count": 3,
   "metadata": {},
   "outputs": [],
   "source": [
    "from openmmtools import testsystems\n",
    "t = testsystems.AlanineDipeptideVacuum()\n",
    "system, positions, topology = t.system, t.positions, t.topology"
   ]
  },
  {
   "cell_type": "code",
   "execution_count": 4,
   "metadata": {},
   "outputs": [
    {
     "name": "stdout",
     "output_type": "stream",
     "text": [
      "0 1.008 Da\n",
      "1 12.01 Da\n",
      "2 1.008 Da\n",
      "3 1.008 Da\n",
      "4 12.01 Da\n",
      "5 16.0 Da\n",
      "6 14.01 Da\n",
      "7 1.008 Da\n",
      "8 12.01 Da\n",
      "9 1.008 Da\n",
      "10 12.01 Da\n",
      "11 1.008 Da\n",
      "12 1.008 Da\n",
      "13 1.008 Da\n",
      "14 12.01 Da\n",
      "15 16.0 Da\n",
      "16 14.01 Da\n",
      "17 1.008 Da\n",
      "18 12.01 Da\n",
      "19 1.008 Da\n",
      "20 1.008 Da\n",
      "21 1.008 Da\n"
     ]
    }
   ],
   "source": [
    "n = system.getNumParticles()\n",
    "for i in range(n):\n",
    "    print(i, system.getParticleMass(i))"
   ]
  },
  {
   "cell_type": "code",
   "execution_count": 5,
   "metadata": {},
   "outputs": [],
   "source": [
    "collision_rate = 91.0 / unit.picosecond\n",
    "timestep = 2.0 * unit.femtoseconds"
   ]
  },
  {
   "cell_type": "code",
   "execution_count": 6,
   "metadata": {},
   "outputs": [],
   "source": [
    "integrator = openmm.LangevinIntegrator(temperature, collision_rate, timestep)\n",
    "# Create a Context for this integrator\n",
    "context = openmm.Context(system, integrator)\n",
    "# Set the positions\n",
    "context.setPositions(positions)"
   ]
  },
  {
   "cell_type": "code",
   "execution_count": 7,
   "metadata": {},
   "outputs": [],
   "source": [
    "context.setVelocitiesToTemperature(temperature)"
   ]
  },
  {
   "cell_type": "code",
   "execution_count": 8,
   "metadata": {},
   "outputs": [],
   "source": [
    "state = context.getState(getVelocities = True, getEnergy = True)"
   ]
  },
  {
   "cell_type": "code",
   "execution_count": 9,
   "metadata": {},
   "outputs": [
    {
     "name": "stdout",
     "output_type": "stream",
     "text": [
      "43.076979503035545 kJ/mol\n"
     ]
    }
   ],
   "source": [
    "print(state.getKineticEnergy())"
   ]
  },
  {
   "cell_type": "code",
   "execution_count": 10,
   "metadata": {},
   "outputs": [],
   "source": [
    "BOLTZMANN = 1.380649e-23 \n",
    "AVOGADRO = 6.02214076e23\n",
    "KILO = 1e3\n",
    "RGAS = BOLTZMANN*AVOGADRO\n",
    "BOLTZ = (RGAS/KILO)  "
   ]
  },
  {
   "cell_type": "code",
   "execution_count": 11,
   "metadata": {},
   "outputs": [
    {
     "name": "stdout",
     "output_type": "stream",
     "text": [
      "0.00831446261815324 8.31446261815324\n"
     ]
    }
   ],
   "source": [
    "print(BOLTZ, RGAS)"
   ]
  },
  {
   "cell_type": "code",
   "execution_count": 12,
   "metadata": {},
   "outputs": [],
   "source": [
    "N = system.getNumParticles()\n",
    "predKE = (3 * N * BOLTZ * 298 / 2)"
   ]
  },
  {
   "cell_type": "code",
   "execution_count": 13,
   "metadata": {},
   "outputs": [
    {
     "name": "stdout",
     "output_type": "stream",
     "text": [
      "81.76442538691896\n"
     ]
    }
   ],
   "source": [
    "print(predKE)"
   ]
  },
  {
   "cell_type": "code",
   "execution_count": 14,
   "metadata": {},
   "outputs": [],
   "source": [
    "h = state.getVelocities()"
   ]
  },
  {
   "cell_type": "code",
   "execution_count": 15,
   "metadata": {},
   "outputs": [
    {
     "name": "stdout",
     "output_type": "stream",
     "text": [
      "[Vec3(x=-0.643200159072876, y=-0.2962085008621216, z=-2.5482029914855957), Vec3(x=-0.06931646168231964, y=-0.2962111234664917, z=-0.5183258652687073), Vec3(x=0.059622686356306076, y=0.23434628546237946, z=-0.660828173160553), Vec3(x=2.388195514678955, y=-0.2667083144187927, z=-1.9251189231872559), Vec3(x=-0.18192768096923828, y=-0.3301435708999634, z=0.4078715145587921), Vec3(x=0.004344215150922537, y=-0.00937278289347887, z=0.27060481905937195), Vec3(x=-0.08332265913486481, y=0.5662397742271423, z=0.27655887603759766), Vec3(x=0.4034940302371979, y=1.248731255531311, z=-0.4068572223186493), Vec3(x=-0.4974123239517212, y=-0.13182757794857025, z=-0.04438899829983711), Vec3(x=-0.18719279766082764, y=0.5527356266975403, z=-0.008090491406619549), Vec3(x=0.4459419548511505, y=-0.06330609321594238, z=0.1777345836162567), Vec3(x=-1.1215217113494873, y=2.2479448318481445, z=1.8883581161499023), Vec3(x=0.4016495943069458, y=-0.03319311514496803, z=1.2373325824737549), Vec3(x=-1.7952382564544678, y=-0.35774755477905273, z=-1.120649814605713), Vec3(x=-0.664890706539154, y=-0.03806500881910324, z=0.38829296827316284), Vec3(x=0.05118345469236374, y=0.33075931668281555, z=0.3558841943740845), Vec3(x=-0.6011132597923279, y=-0.5221632719039917, z=-0.4755801558494568), Vec3(x=-1.0910370349884033, y=-1.43971848487854, z=0.8840497136116028), Vec3(x=0.21770663559436798, y=0.021401667967438698, z=-0.10411164164543152), Vec3(x=0.14944295585155487, y=-0.17136332392692566, z=-0.5168801546096802), Vec3(x=0.44996196031570435, y=0.010526218451559544, z=-0.23375843465328217), Vec3(x=0.8395214676856995, y=1.2307090759277344, z=0.7493775486946106)] nm/ps\n"
     ]
    }
   ],
   "source": [
    "print(h)"
   ]
  },
  {
   "cell_type": "code",
   "execution_count": 19,
   "metadata": {},
   "outputs": [],
   "source": [
    "def to_numpy(vels):\n",
    "    import numpy as np\n",
    "    rv = []\n",
    "    for vel in vels:\n",
    "        rv.append([vel.x, vel.y, vel.z])\n",
    "    return np.array(rv)"
   ]
  },
  {
   "cell_type": "code",
   "execution_count": 20,
   "metadata": {},
   "outputs": [],
   "source": [
    "k = to_numpy(h)"
   ]
  },
  {
   "cell_type": "code",
   "execution_count": 21,
   "metadata": {},
   "outputs": [
    {
     "name": "stdout",
     "output_type": "stream",
     "text": [
      "[6.99478441 0.3612075  0.49516692 9.48069401 0.30845163 0.07333369\n",
      " 0.40405496 1.88766998 0.26676791 0.34062327 0.23446147 9.87696329\n",
      " 1.6934161  4.60671972 0.59430003 0.23867503 0.86016812 4.04469502\n",
      " 0.05869344 0.31886368 0.25721957 2.78100783]\n"
     ]
    }
   ],
   "source": [
    "speeds = k[:,0]**2 + k[:,1]**2 + k[:, 2]**2\n",
    "print(speeds)"
   ]
  },
  {
   "cell_type": "code",
   "execution_count": null,
   "metadata": {},
   "outputs": [],
   "source": []
  },
  {
   "cell_type": "code",
   "execution_count": null,
   "metadata": {},
   "outputs": [],
   "source": []
  }
 ],
 "metadata": {
  "kernelspec": {
   "display_name": "MD",
   "language": "python",
   "name": "md"
  },
  "language_info": {
   "codemirror_mode": {
    "name": "ipython",
    "version": 3
   },
   "file_extension": ".py",
   "mimetype": "text/x-python",
   "name": "python",
   "nbconvert_exporter": "python",
   "pygments_lexer": "ipython3",
   "version": "3.6.12"
  }
 },
 "nbformat": 4,
 "nbformat_minor": 2
}
