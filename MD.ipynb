{
 "cells": [
  {
   "cell_type": "code",
   "execution_count": 1,
   "metadata": {},
   "outputs": [],
   "source": [
    "import numpy as np\n",
    "import matplotlib.pyplot as plt\n",
    "\n",
    "%matplotlib inline\n"
   ]
  },
  {
   "cell_type": "code",
   "execution_count": 2,
   "metadata": {},
   "outputs": [],
   "source": [
    "psf = 'inp_files/da.psf'\n",
    "pdb = 'inp_files/smd_ini.pdb'\n",
    "prm = 'inp_files/par_all27_prot_lipid_cmap.prm'"
   ]
  },
  {
   "cell_type": "code",
   "execution_count": 232,
   "metadata": {},
   "outputs": [],
   "source": [
    "def com_vel(v, mas):\n",
    "    return (np.sum(mas * v, axis = 0) / np.sum(mas))"
   ]
  },
  {
   "cell_type": "code",
   "execution_count": 242,
   "metadata": {},
   "outputs": [],
   "source": [
    "def KE(v, mas):\n",
    "    return ((0.5 / na) * np.sum(mas * v**2))"
   ]
  },
  {
   "cell_type": "code",
   "execution_count": 244,
   "metadata": {},
   "outputs": [],
   "source": [
    "alpha = (3 * kb * T) / (2 * KE(initial_velocities, mass))"
   ]
  },
  {
   "cell_type": "code",
   "execution_count": 246,
   "metadata": {},
   "outputs": [],
   "source": [
    "initial_velocities *= alpha"
   ]
  },
  {
   "cell_type": "code",
   "execution_count": 247,
   "metadata": {},
   "outputs": [],
   "source": [
    "initial_velocities -= com_vel(initial_velocities, mass)"
   ]
  },
  {
   "cell_type": "code",
   "execution_count": 3,
   "metadata": {},
   "outputs": [],
   "source": [
    "import parmed"
   ]
  },
  {
   "cell_type": "code",
   "execution_count": 4,
   "metadata": {},
   "outputs": [],
   "source": [
    "from parmed.charmm import CharmmParameterSet"
   ]
  },
  {
   "cell_type": "code",
   "execution_count": 5,
   "metadata": {},
   "outputs": [
    {
     "name": "stderr",
     "output_type": "stream",
     "text": [
      "/home/shaunak/anaconda3/envs/MD/lib/python3.6/site-packages/parmed/charmm/parameters.py:747: ParameterWarning: Atom type C not present in AtomType list\n",
      "  warnings.warn('Atom type %s not present in AtomType list' % key, ParameterWarning)\n"
     ]
    }
   ],
   "source": [
    "prm = CharmmParameterSet(\"inp_files/par_all27_prot_lipid_cmap.prm\")"
   ]
  },
  {
   "cell_type": "code",
   "execution_count": 9,
   "metadata": {},
   "outputs": [],
   "source": [
    "from parmed.formats.registry import load_file"
   ]
  },
  {
   "cell_type": "code",
   "execution_count": 21,
   "metadata": {},
   "outputs": [
    {
     "data": {
      "text/plain": [
       "TrackedList([\n",
       "\t<Bond <Atom N [0]; In ALA 0>--<Atom CA [3]; In ALA 0>; type=None>\n",
       "\t<Bond <Atom HT2 [1]; In ALA 0>--<Atom N [0]; In ALA 0>; type=None>\n",
       "\t<Bond <Atom HT3 [2]; In ALA 0>--<Atom N [0]; In ALA 0>; type=None>\n",
       "\t<Bond <Atom CA [3]; In ALA 0>--<Atom HA [4]; In ALA 0>; type=None>\n",
       "\t<Bond <Atom CB [5]; In ALA 0>--<Atom CA [3]; In ALA 0>; type=None>\n",
       "\t<Bond <Atom CB [5]; In ALA 0>--<Atom HB1 [6]; In ALA 0>; type=None>\n",
       "\t<Bond <Atom CB [5]; In ALA 0>--<Atom HB2 [7]; In ALA 0>; type=None>\n",
       "\t<Bond <Atom CB [5]; In ALA 0>--<Atom HB3 [8]; In ALA 0>; type=None>\n",
       "\t<Bond <Atom C [9]; In ALA 0>--<Atom CA [3]; In ALA 0>; type=None>\n",
       "\t<Bond <Atom C [9]; In ALA 0>--<Atom N [11]; In ALA 1>; type=None>\n",
       "\t<Bond <Atom O [10]; In ALA 0>--<Atom C [9]; In ALA 0>; type=None>\n",
       "\t<Bond <Atom N [11]; In ALA 1>--<Atom HN [12]; In ALA 1>; type=None>\n",
       "\t<Bond <Atom N [11]; In ALA 1>--<Atom CA [13]; In ALA 1>; type=None>\n",
       "\t<Bond <Atom CA [13]; In ALA 1>--<Atom HA [14]; In ALA 1>; type=None>\n",
       "\t<Bond <Atom CB [15]; In ALA 1>--<Atom CA [13]; In ALA 1>; type=None>\n",
       "\t<Bond <Atom CB [15]; In ALA 1>--<Atom HB1 [16]; In ALA 1>; type=None>\n",
       "\t<Bond <Atom CB [15]; In ALA 1>--<Atom HB2 [17]; In ALA 1>; type=None>\n",
       "\t<Bond <Atom CB [15]; In ALA 1>--<Atom HB3 [18]; In ALA 1>; type=None>\n",
       "\t<Bond <Atom C [19]; In ALA 1>--<Atom CA [13]; In ALA 1>; type=None>\n",
       "\t<Bond <Atom C [19]; In ALA 1>--<Atom N [21]; In ALA 2>; type=None>\n",
       "\t<Bond <Atom O [20]; In ALA 1>--<Atom C [19]; In ALA 1>; type=None>\n",
       "\t<Bond <Atom N [21]; In ALA 2>--<Atom HN [22]; In ALA 2>; type=None>\n",
       "\t<Bond <Atom N [21]; In ALA 2>--<Atom CA [23]; In ALA 2>; type=None>\n",
       "\t<Bond <Atom CA [23]; In ALA 2>--<Atom HA [24]; In ALA 2>; type=None>\n",
       "\t...\n",
       "\t<Bond <Atom CA [98]; In ALA 9>--<Atom HA [99]; In ALA 9>; type=None>\n",
       "\t<Bond <Atom CB [100]; In ALA 9>--<Atom CA [98]; In ALA 9>; type=None>\n",
       "\t<Bond <Atom CB [100]; In ALA 9>--<Atom HB1 [101]; In ALA 9>; type=None>\n",
       "\t<Bond <Atom CB [100]; In ALA 9>--<Atom HB2 [102]; In ALA 9>; type=None>\n",
       "\t<Bond <Atom CB [100]; In ALA 9>--<Atom HB3 [103]; In ALA 9>; type=None>\n",
       "])"
      ]
     },
     "execution_count": 21,
     "metadata": {},
     "output_type": "execute_result"
    }
   ],
   "source": [
    "psf = load_file('inp_files/da.psf')\n",
    "\n",
    "# Alternatively this is also okay\n",
    "# from parmed.charmm import CharmmPsfFile\n",
    "# psf = CharmmPsfFile('inp_files/da.psf')\n",
    "psf.bonds"
   ]
  },
  {
   "cell_type": "code",
   "execution_count": 22,
   "metadata": {},
   "outputs": [],
   "source": [
    "pdb = load_file('inp_files/smd_ini.pdb')"
   ]
  },
  {
   "cell_type": "code",
   "execution_count": 211,
   "metadata": {},
   "outputs": [],
   "source": [
    "from copy import deepcopy\n",
    "\n",
    "class Energies:\n",
    "    def __init__(self, psf, pdb, prm):\n",
    "        self.psf = psf\n",
    "        self.pdb = pdb\n",
    "        self.prm = prm\n",
    "        \n",
    "        ## initializing bond types and coordinates\n",
    "        coords = pdb.coordinates\n",
    "        bonds = psf.bonds\n",
    "        angles = psf.angles\n",
    "        dihedrals = psf.dihedrals\n",
    "        impropers = psf.impropers\n",
    "        \n",
    "        for bond in bonds:\n",
    "            ## bond types\n",
    "            tid1 = bond.atom1.type\n",
    "            tid2 = bond.atom2.type\n",
    "            \n",
    "            t = (tid1, tid2)\n",
    "            bond.type = prm.bond_types[t]\n",
    "    \n",
    "            ## coordinates\n",
    "            b1 = bond.atom1\n",
    "            b1.xx, b1.xy, b1.xz = coords[b1.idx]\n",
    "            \n",
    "            b2 = bond.atom2\n",
    "            b2.xx, b2.xy, b2.xz = coords[b2.idx]\n",
    "            \n",
    "        ## initializing angle types\n",
    "        for angle in angles:\n",
    "            a1 = angle.atom1.type\n",
    "            a2 = angle.atom2.type\n",
    "            a3 = angle.atom3.type\n",
    "            \n",
    "            t = (a1, a2, a3)\n",
    "            \n",
    "            angle.type = prm.angle_types[t]\n",
    "            a = angle.measure()\n",
    "            a0 = angle.type\n",
    "            \n",
    "        for i, dihedral in enumerate(dihedrals):\n",
    "            a1 = dihedral.atom1.type\n",
    "            a2 = dihedral.atom2.type\n",
    "            a3 = dihedral.atom3.type\n",
    "            a4 = dihedral.atom4.type\n",
    "            \n",
    "            t = (a1, a2, a3, a4)\n",
    "            g = self._get_bond_type(t, prm.dihedral_types)\n",
    "            dihedrals[i].type = prm.dihedral_types[g]\n",
    "            \n",
    "        for i, improper in enumerate(impropers):\n",
    "            a1 = improper.atom1.type\n",
    "            a2 = improper.atom2.type\n",
    "            a3 = improper.atom3.type\n",
    "            a4 = improper.atom4.type\n",
    "            \n",
    "            t = (a1, a2, a3, a4)\n",
    "            g = self._get_bond_type(t, prm.improper_types)\n",
    "            impropers[i].type = prm.improper_types[g]\n",
    "        \n",
    "    def bond(self):\n",
    "        bonds = psf.bonds\n",
    "        s = 0\n",
    "        for bond in bonds:\n",
    "            r1 = pdb.coordinates[bond.atom1.idx]\n",
    "            r2 = pdb.coordinates[bond.atom2.idx]\n",
    "            k = bond.type.k\n",
    "            dist = np.linalg.norm(r1 - r2)\n",
    "            \n",
    "            r0 = bond.type.req\n",
    "            cust_energy = k * ((dist - r0)**2)\n",
    "            s += cust_energy\n",
    "            \n",
    "        return s    \n",
    "    \n",
    "    def angle(self):\n",
    "        s = 0\n",
    "        \n",
    "        for angle in psf.angles:\n",
    "            theta = angle.measure()\n",
    "            theta0 = angle.type.theteq\n",
    "            k = angle.type.k\n",
    "            theta_diff = (np.pi * (theta - theta0)) / 180\n",
    "            en = k * (theta_diff ** 2)\n",
    "#             print(en, angle.energy())\n",
    "            s += en\n",
    "        return s\n",
    "    \n",
    "    ## DIHEDRAL AND IMPROPER HELPER FUNCTION\n",
    "    def _get_bond_type(self, t, search_list):\n",
    "        '''\n",
    "        Input :\n",
    "        t : a 4-atom tuple, \n",
    "        search_list: usually prm.dihedral_types or prm.improper_types\n",
    "\n",
    "        Return type: BondType\n",
    "        '''\n",
    "        for dtype in search_list:\n",
    "            val = True\n",
    "            for i in range(4):\n",
    "                val = val and (dtype[i] == t[i] or dtype[i] == 'X')\n",
    "\n",
    "            if val:\n",
    "                return dtype\n",
    "\n",
    "            ## Attempt reverse search\n",
    "            val = True\n",
    "            for i in range(4):\n",
    "                val = val and (dtype[i] == t[3 - i] or dtype[i] == 'X')\n",
    "\n",
    "            if val:\n",
    "                return dtype\n",
    "        return None\n",
    "    \n",
    "    def dihedral(self):\n",
    "        dihedrals = psf.dihedrals\n",
    "        for dihed in dihedrals:\n",
    "            dtype = dihed.type\n",
    "            \n",
    "            total_energy = 0\n",
    "            chi = dihed.measure() * (np.pi / 180)\n",
    "            if isinstance(dtype, parmed.DihedralType):\n",
    "                n = dtype.per\n",
    "                kchi = dtype.phi_k\n",
    "                phase = dtype.phase * (np.pi / 180)\n",
    "                en = kchi * (1 + np.cos(n * chi - phase))\n",
    "                total_energy += en\n",
    "                \n",
    "            elif isinstance(dtype, parmed.DihedralTypeList):\n",
    "                e = 0\n",
    "                for term in dtype:\n",
    "                    n = term.per\n",
    "                    kchi = term.phi_k\n",
    "                    phase = term.phase * (np.pi / 180)\n",
    "                    en = kchi * (1 + np.cos(n * chi - phase))\n",
    "                    e += en\n",
    "                e *= 0.5\n",
    "                total_energy += e\n",
    "            else:\n",
    "                printf(\"Cant determine parameters for {}\".format(t))\n",
    "                return 0\n",
    "        return total_energy\n",
    "    \n",
    "    def improper(self):\n",
    "        impropers = psf.impropers\n",
    "        total_energy = 0\n",
    "        for imp in impropers:\n",
    "            psi = imp.measure() * (np.pi / 180)\n",
    "            dtype = imp.type\n",
    "            psi_0 = dtype.psi_eq * (np.pi / 180)\n",
    "            k = dtype.psi_k \n",
    "            en = k *(psi - psi_0)**2\n",
    "            \n",
    "            total_energy += en\n",
    "            \n",
    "        return total_energy\n",
    "    \n",
    "    # NON BONDED\n",
    "    def LJ(self):\n",
    "#         print(psf.__dir__())\n",
    "#         print(prm.nbfix_types)\n",
    "        for i in prm.nbfix_types:\n",
    "            print(i)\n"
   ]
  },
  {
   "cell_type": "code",
   "execution_count": 212,
   "metadata": {},
   "outputs": [],
   "source": [
    "h = Energies(psf, pdb, prm)\n",
    "h.LJ()"
   ]
  },
  {
   "cell_type": "code",
   "execution_count": 218,
   "metadata": {},
   "outputs": [],
   "source": [
    "pr = parmed.parameters.ParameterSet()"
   ]
  },
  {
   "cell_type": "code",
   "execution_count": 221,
   "metadata": {},
   "outputs": [
    {
     "name": "stdout",
     "output_type": "stream",
     "text": [
      "OrderedDict()\n"
     ]
    }
   ],
   "source": [
    "print(pr.nbfix_types)"
   ]
  },
  {
   "cell_type": "code",
   "execution_count": 224,
   "metadata": {},
   "outputs": [
    {
     "ename": "TypeError",
     "evalue": "read_parameter_file() missing 1 required positional argument: 'self'",
     "output_type": "error",
     "traceback": [
      "\u001b[0;31m---------------------------------------------------------------------------\u001b[0m",
      "\u001b[0;31mTypeError\u001b[0m                                 Traceback (most recent call last)",
      "\u001b[0;32m<ipython-input-224-728934ddb047>\u001b[0m in \u001b[0;36m<module>\u001b[0;34m\u001b[0m\n\u001b[0;32m----> 1\u001b[0;31m \u001b[0mpr\u001b[0m \u001b[0;34m=\u001b[0m \u001b[0mparmed\u001b[0m\u001b[0;34m.\u001b[0m\u001b[0mcharmm\u001b[0m\u001b[0;34m.\u001b[0m\u001b[0mparameters\u001b[0m\u001b[0;34m.\u001b[0m\u001b[0mCharmmParameterSet\u001b[0m\u001b[0;34m.\u001b[0m\u001b[0mread_parameter_file\u001b[0m\u001b[0;34m(\u001b[0m\u001b[0mpfile\u001b[0m \u001b[0;34m=\u001b[0m \u001b[0;34m\"inp_files/par_all27_prot_lipid_cmap.prm\"\u001b[0m\u001b[0;34m)\u001b[0m\u001b[0;34m\u001b[0m\u001b[0;34m\u001b[0m\u001b[0m\n\u001b[0m",
      "\u001b[0;31mTypeError\u001b[0m: read_parameter_file() missing 1 required positional argument: 'self'"
     ]
    }
   ],
   "source": [
    "pr = parmed.charmm.parameters.CharmmParameterSet.read_parameter_file(pfile = \"inp_files/par_all27_prot_lipid_cmap.prm\")"
   ]
  },
  {
   "cell_type": "code",
   "execution_count": null,
   "metadata": {},
   "outputs": [],
   "source": []
  }
 ],
 "metadata": {
  "kernelspec": {
   "display_name": "MD",
   "language": "python",
   "name": "md"
  },
  "language_info": {
   "codemirror_mode": {
    "name": "ipython",
    "version": 3
   },
   "file_extension": ".py",
   "mimetype": "text/x-python",
   "name": "python",
   "nbconvert_exporter": "python",
   "pygments_lexer": "ipython3",
   "version": "3.6.12"
  }
 },
 "nbformat": 4,
 "nbformat_minor": 2
}
